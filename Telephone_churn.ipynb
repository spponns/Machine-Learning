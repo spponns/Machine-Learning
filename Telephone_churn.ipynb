{
  "nbformat": 4,
  "nbformat_minor": 0,
  "metadata": {
    "colab": {
      "provenance": [],
      "authorship_tag": "ABX9TyOrMNv50HHW9/D0L2xt0FxG",
      "include_colab_link": true
    },
    "kernelspec": {
      "name": "python3",
      "display_name": "Python 3"
    },
    "language_info": {
      "name": "python"
    }
  },
  "cells": [
    {
      "cell_type": "markdown",
      "metadata": {
        "id": "view-in-github",
        "colab_type": "text"
      },
      "source": [
        "<a href=\"https://colab.research.google.com/github/spponns/Machine-Learning/blob/main/Telephone_churn.ipynb\" target=\"_parent\"><img src=\"https://colab.research.google.com/assets/colab-badge.svg\" alt=\"Open In Colab\"/></a>"
      ]
    },
    {
      "cell_type": "code",
      "source": [
        "import pandas as pd\n",
        "import numpy as np\n",
        "import pickle\n",
        "from  google.colab import files\n",
        "import io\n",
        "import matplotlib.pyplot as plt\n",
        "%matplotlib inline\n",
        "import seaborn as sns\n",
        "import sklearn\n",
        "from sklearn.preprocessing import LabelEncoder,OneHotEncoder\n",
        "from sklearn.linear_model import LogisticRegression\n",
        "from sklearn.tree import DecisionTreeClassifier\n",
        "from sklearn.ensemble import RandomForestClassifier\n",
        "from sklearn.neighbors import KNeighborsClassifier\n",
        "from sklearn.svm import SVC\n",
        "from sklearn.model_selection import RandomizedSearchCV\n",
        "import imblearn\n",
        "from imblearn.over_sampling import SMOTE\n",
        "from sklearn.model_selection import train_test_split\n",
        "from sklearn.preprocessing import StandardScaler\n",
        "from sklearn.metrics import accuracy_score, classification_report, confusion_matrix, f1_score"
      ],
      "metadata": {
        "id": "xV5zCRPXSp4n"
      },
      "execution_count": 1,
      "outputs": []
    },
    {
      "cell_type": "code",
      "source": [
        "\n",
        "data=files.upload()\n",
        "\n"
      ],
      "metadata": {
        "colab": {
          "base_uri": "https://localhost:8080/",
          "height": 73
        },
        "id": "aD928WHIVErf",
        "outputId": "ece75c42-411c-4943-aef5-140120bc4949"
      },
      "execution_count": 2,
      "outputs": [
        {
          "output_type": "display_data",
          "data": {
            "text/plain": [
              "<IPython.core.display.HTML object>"
            ],
            "text/html": [
              "\n",
              "     <input type=\"file\" id=\"files-59128400-d998-47d1-bcdb-8862cd0bba44\" name=\"files[]\" multiple disabled\n",
              "        style=\"border:none\" />\n",
              "     <output id=\"result-59128400-d998-47d1-bcdb-8862cd0bba44\">\n",
              "      Upload widget is only available when the cell has been executed in the\n",
              "      current browser session. Please rerun this cell to enable.\n",
              "      </output>\n",
              "      <script>// Copyright 2017 Google LLC\n",
              "//\n",
              "// Licensed under the Apache License, Version 2.0 (the \"License\");\n",
              "// you may not use this file except in compliance with the License.\n",
              "// You may obtain a copy of the License at\n",
              "//\n",
              "//      http://www.apache.org/licenses/LICENSE-2.0\n",
              "//\n",
              "// Unless required by applicable law or agreed to in writing, software\n",
              "// distributed under the License is distributed on an \"AS IS\" BASIS,\n",
              "// WITHOUT WARRANTIES OR CONDITIONS OF ANY KIND, either express or implied.\n",
              "// See the License for the specific language governing permissions and\n",
              "// limitations under the License.\n",
              "\n",
              "/**\n",
              " * @fileoverview Helpers for google.colab Python module.\n",
              " */\n",
              "(function(scope) {\n",
              "function span(text, styleAttributes = {}) {\n",
              "  const element = document.createElement('span');\n",
              "  element.textContent = text;\n",
              "  for (const key of Object.keys(styleAttributes)) {\n",
              "    element.style[key] = styleAttributes[key];\n",
              "  }\n",
              "  return element;\n",
              "}\n",
              "\n",
              "// Max number of bytes which will be uploaded at a time.\n",
              "const MAX_PAYLOAD_SIZE = 100 * 1024;\n",
              "\n",
              "function _uploadFiles(inputId, outputId) {\n",
              "  const steps = uploadFilesStep(inputId, outputId);\n",
              "  const outputElement = document.getElementById(outputId);\n",
              "  // Cache steps on the outputElement to make it available for the next call\n",
              "  // to uploadFilesContinue from Python.\n",
              "  outputElement.steps = steps;\n",
              "\n",
              "  return _uploadFilesContinue(outputId);\n",
              "}\n",
              "\n",
              "// This is roughly an async generator (not supported in the browser yet),\n",
              "// where there are multiple asynchronous steps and the Python side is going\n",
              "// to poll for completion of each step.\n",
              "// This uses a Promise to block the python side on completion of each step,\n",
              "// then passes the result of the previous step as the input to the next step.\n",
              "function _uploadFilesContinue(outputId) {\n",
              "  const outputElement = document.getElementById(outputId);\n",
              "  const steps = outputElement.steps;\n",
              "\n",
              "  const next = steps.next(outputElement.lastPromiseValue);\n",
              "  return Promise.resolve(next.value.promise).then((value) => {\n",
              "    // Cache the last promise value to make it available to the next\n",
              "    // step of the generator.\n",
              "    outputElement.lastPromiseValue = value;\n",
              "    return next.value.response;\n",
              "  });\n",
              "}\n",
              "\n",
              "/**\n",
              " * Generator function which is called between each async step of the upload\n",
              " * process.\n",
              " * @param {string} inputId Element ID of the input file picker element.\n",
              " * @param {string} outputId Element ID of the output display.\n",
              " * @return {!Iterable<!Object>} Iterable of next steps.\n",
              " */\n",
              "function* uploadFilesStep(inputId, outputId) {\n",
              "  const inputElement = document.getElementById(inputId);\n",
              "  inputElement.disabled = false;\n",
              "\n",
              "  const outputElement = document.getElementById(outputId);\n",
              "  outputElement.innerHTML = '';\n",
              "\n",
              "  const pickedPromise = new Promise((resolve) => {\n",
              "    inputElement.addEventListener('change', (e) => {\n",
              "      resolve(e.target.files);\n",
              "    });\n",
              "  });\n",
              "\n",
              "  const cancel = document.createElement('button');\n",
              "  inputElement.parentElement.appendChild(cancel);\n",
              "  cancel.textContent = 'Cancel upload';\n",
              "  const cancelPromise = new Promise((resolve) => {\n",
              "    cancel.onclick = () => {\n",
              "      resolve(null);\n",
              "    };\n",
              "  });\n",
              "\n",
              "  // Wait for the user to pick the files.\n",
              "  const files = yield {\n",
              "    promise: Promise.race([pickedPromise, cancelPromise]),\n",
              "    response: {\n",
              "      action: 'starting',\n",
              "    }\n",
              "  };\n",
              "\n",
              "  cancel.remove();\n",
              "\n",
              "  // Disable the input element since further picks are not allowed.\n",
              "  inputElement.disabled = true;\n",
              "\n",
              "  if (!files) {\n",
              "    return {\n",
              "      response: {\n",
              "        action: 'complete',\n",
              "      }\n",
              "    };\n",
              "  }\n",
              "\n",
              "  for (const file of files) {\n",
              "    const li = document.createElement('li');\n",
              "    li.append(span(file.name, {fontWeight: 'bold'}));\n",
              "    li.append(span(\n",
              "        `(${file.type || 'n/a'}) - ${file.size} bytes, ` +\n",
              "        `last modified: ${\n",
              "            file.lastModifiedDate ? file.lastModifiedDate.toLocaleDateString() :\n",
              "                                    'n/a'} - `));\n",
              "    const percent = span('0% done');\n",
              "    li.appendChild(percent);\n",
              "\n",
              "    outputElement.appendChild(li);\n",
              "\n",
              "    const fileDataPromise = new Promise((resolve) => {\n",
              "      const reader = new FileReader();\n",
              "      reader.onload = (e) => {\n",
              "        resolve(e.target.result);\n",
              "      };\n",
              "      reader.readAsArrayBuffer(file);\n",
              "    });\n",
              "    // Wait for the data to be ready.\n",
              "    let fileData = yield {\n",
              "      promise: fileDataPromise,\n",
              "      response: {\n",
              "        action: 'continue',\n",
              "      }\n",
              "    };\n",
              "\n",
              "    // Use a chunked sending to avoid message size limits. See b/62115660.\n",
              "    let position = 0;\n",
              "    do {\n",
              "      const length = Math.min(fileData.byteLength - position, MAX_PAYLOAD_SIZE);\n",
              "      const chunk = new Uint8Array(fileData, position, length);\n",
              "      position += length;\n",
              "\n",
              "      const base64 = btoa(String.fromCharCode.apply(null, chunk));\n",
              "      yield {\n",
              "        response: {\n",
              "          action: 'append',\n",
              "          file: file.name,\n",
              "          data: base64,\n",
              "        },\n",
              "      };\n",
              "\n",
              "      let percentDone = fileData.byteLength === 0 ?\n",
              "          100 :\n",
              "          Math.round((position / fileData.byteLength) * 100);\n",
              "      percent.textContent = `${percentDone}% done`;\n",
              "\n",
              "    } while (position < fileData.byteLength);\n",
              "  }\n",
              "\n",
              "  // All done.\n",
              "  yield {\n",
              "    response: {\n",
              "      action: 'complete',\n",
              "    }\n",
              "  };\n",
              "}\n",
              "\n",
              "scope.google = scope.google || {};\n",
              "scope.google.colab = scope.google.colab || {};\n",
              "scope.google.colab._files = {\n",
              "  _uploadFiles,\n",
              "  _uploadFilesContinue,\n",
              "};\n",
              "})(self);\n",
              "</script> "
            ]
          },
          "metadata": {}
        },
        {
          "output_type": "stream",
          "name": "stdout",
          "text": [
            "Saving WA_Fn-UseC_-Telco-Customer-Churn.csv to WA_Fn-UseC_-Telco-Customer-Churn.csv\n"
          ]
        }
      ]
    },
    {
      "cell_type": "code",
      "source": [
        "data=pd.read_csv(\"/content/WA_Fn-UseC_-Telco-Customer-Churn.csv\")\n",
        "df=data\n",
        "data"
      ],
      "metadata": {
        "colab": {
          "base_uri": "https://localhost:8080/",
          "height": 661
        },
        "id": "mO3tcQLg_BOZ",
        "outputId": "a9ac9fef-1b1e-4828-b91e-da869257a2b3"
      },
      "execution_count": 3,
      "outputs": [
        {
          "output_type": "execute_result",
          "data": {
            "text/plain": [
              "      customerID  gender  SeniorCitizen Partner Dependents  tenure  \\\n",
              "0     7590-VHVEG  Female              0     Yes         No       1   \n",
              "1     5575-GNVDE    Male              0      No         No      34   \n",
              "2     3668-QPYBK    Male              0      No         No       2   \n",
              "3     7795-CFOCW    Male              0      No         No      45   \n",
              "4     9237-HQITU  Female              0      No         No       2   \n",
              "...          ...     ...            ...     ...        ...     ...   \n",
              "7038  6840-RESVB    Male              0     Yes        Yes      24   \n",
              "7039  2234-XADUH  Female              0     Yes        Yes      72   \n",
              "7040  4801-JZAZL  Female              0     Yes        Yes      11   \n",
              "7041  8361-LTMKD    Male              1     Yes         No       4   \n",
              "7042  3186-AJIEK    Male              0      No         No      66   \n",
              "\n",
              "     PhoneService     MultipleLines InternetService OnlineSecurity  ...  \\\n",
              "0              No  No phone service             DSL             No  ...   \n",
              "1             Yes                No             DSL            Yes  ...   \n",
              "2             Yes                No             DSL            Yes  ...   \n",
              "3              No  No phone service             DSL            Yes  ...   \n",
              "4             Yes                No     Fiber optic             No  ...   \n",
              "...           ...               ...             ...            ...  ...   \n",
              "7038          Yes               Yes             DSL            Yes  ...   \n",
              "7039          Yes               Yes     Fiber optic             No  ...   \n",
              "7040           No  No phone service             DSL            Yes  ...   \n",
              "7041          Yes               Yes     Fiber optic             No  ...   \n",
              "7042          Yes                No     Fiber optic            Yes  ...   \n",
              "\n",
              "     DeviceProtection TechSupport StreamingTV StreamingMovies        Contract  \\\n",
              "0                  No          No          No              No  Month-to-month   \n",
              "1                 Yes          No          No              No        One year   \n",
              "2                  No          No          No              No  Month-to-month   \n",
              "3                 Yes         Yes          No              No        One year   \n",
              "4                  No          No          No              No  Month-to-month   \n",
              "...               ...         ...         ...             ...             ...   \n",
              "7038              Yes         Yes         Yes             Yes        One year   \n",
              "7039              Yes          No         Yes             Yes        One year   \n",
              "7040               No          No          No              No  Month-to-month   \n",
              "7041               No          No          No              No  Month-to-month   \n",
              "7042              Yes         Yes         Yes             Yes        Two year   \n",
              "\n",
              "     PaperlessBilling              PaymentMethod MonthlyCharges  TotalCharges  \\\n",
              "0                 Yes           Electronic check          29.85         29.85   \n",
              "1                  No               Mailed check          56.95        1889.5   \n",
              "2                 Yes               Mailed check          53.85        108.15   \n",
              "3                  No  Bank transfer (automatic)          42.30       1840.75   \n",
              "4                 Yes           Electronic check          70.70        151.65   \n",
              "...               ...                        ...            ...           ...   \n",
              "7038              Yes               Mailed check          84.80        1990.5   \n",
              "7039              Yes    Credit card (automatic)         103.20        7362.9   \n",
              "7040              Yes           Electronic check          29.60        346.45   \n",
              "7041              Yes               Mailed check          74.40         306.6   \n",
              "7042              Yes  Bank transfer (automatic)         105.65        6844.5   \n",
              "\n",
              "     Churn  \n",
              "0       No  \n",
              "1       No  \n",
              "2      Yes  \n",
              "3       No  \n",
              "4      Yes  \n",
              "...    ...  \n",
              "7038    No  \n",
              "7039    No  \n",
              "7040    No  \n",
              "7041   Yes  \n",
              "7042    No  \n",
              "\n",
              "[7043 rows x 21 columns]"
            ],
            "text/html": [
              "\n",
              "  <div id=\"df-98b801e1-d900-4bc4-918f-22e0613cdeb3\">\n",
              "    <div class=\"colab-df-container\">\n",
              "      <div>\n",
              "<style scoped>\n",
              "    .dataframe tbody tr th:only-of-type {\n",
              "        vertical-align: middle;\n",
              "    }\n",
              "\n",
              "    .dataframe tbody tr th {\n",
              "        vertical-align: top;\n",
              "    }\n",
              "\n",
              "    .dataframe thead th {\n",
              "        text-align: right;\n",
              "    }\n",
              "</style>\n",
              "<table border=\"1\" class=\"dataframe\">\n",
              "  <thead>\n",
              "    <tr style=\"text-align: right;\">\n",
              "      <th></th>\n",
              "      <th>customerID</th>\n",
              "      <th>gender</th>\n",
              "      <th>SeniorCitizen</th>\n",
              "      <th>Partner</th>\n",
              "      <th>Dependents</th>\n",
              "      <th>tenure</th>\n",
              "      <th>PhoneService</th>\n",
              "      <th>MultipleLines</th>\n",
              "      <th>InternetService</th>\n",
              "      <th>OnlineSecurity</th>\n",
              "      <th>...</th>\n",
              "      <th>DeviceProtection</th>\n",
              "      <th>TechSupport</th>\n",
              "      <th>StreamingTV</th>\n",
              "      <th>StreamingMovies</th>\n",
              "      <th>Contract</th>\n",
              "      <th>PaperlessBilling</th>\n",
              "      <th>PaymentMethod</th>\n",
              "      <th>MonthlyCharges</th>\n",
              "      <th>TotalCharges</th>\n",
              "      <th>Churn</th>\n",
              "    </tr>\n",
              "  </thead>\n",
              "  <tbody>\n",
              "    <tr>\n",
              "      <th>0</th>\n",
              "      <td>7590-VHVEG</td>\n",
              "      <td>Female</td>\n",
              "      <td>0</td>\n",
              "      <td>Yes</td>\n",
              "      <td>No</td>\n",
              "      <td>1</td>\n",
              "      <td>No</td>\n",
              "      <td>No phone service</td>\n",
              "      <td>DSL</td>\n",
              "      <td>No</td>\n",
              "      <td>...</td>\n",
              "      <td>No</td>\n",
              "      <td>No</td>\n",
              "      <td>No</td>\n",
              "      <td>No</td>\n",
              "      <td>Month-to-month</td>\n",
              "      <td>Yes</td>\n",
              "      <td>Electronic check</td>\n",
              "      <td>29.85</td>\n",
              "      <td>29.85</td>\n",
              "      <td>No</td>\n",
              "    </tr>\n",
              "    <tr>\n",
              "      <th>1</th>\n",
              "      <td>5575-GNVDE</td>\n",
              "      <td>Male</td>\n",
              "      <td>0</td>\n",
              "      <td>No</td>\n",
              "      <td>No</td>\n",
              "      <td>34</td>\n",
              "      <td>Yes</td>\n",
              "      <td>No</td>\n",
              "      <td>DSL</td>\n",
              "      <td>Yes</td>\n",
              "      <td>...</td>\n",
              "      <td>Yes</td>\n",
              "      <td>No</td>\n",
              "      <td>No</td>\n",
              "      <td>No</td>\n",
              "      <td>One year</td>\n",
              "      <td>No</td>\n",
              "      <td>Mailed check</td>\n",
              "      <td>56.95</td>\n",
              "      <td>1889.5</td>\n",
              "      <td>No</td>\n",
              "    </tr>\n",
              "    <tr>\n",
              "      <th>2</th>\n",
              "      <td>3668-QPYBK</td>\n",
              "      <td>Male</td>\n",
              "      <td>0</td>\n",
              "      <td>No</td>\n",
              "      <td>No</td>\n",
              "      <td>2</td>\n",
              "      <td>Yes</td>\n",
              "      <td>No</td>\n",
              "      <td>DSL</td>\n",
              "      <td>Yes</td>\n",
              "      <td>...</td>\n",
              "      <td>No</td>\n",
              "      <td>No</td>\n",
              "      <td>No</td>\n",
              "      <td>No</td>\n",
              "      <td>Month-to-month</td>\n",
              "      <td>Yes</td>\n",
              "      <td>Mailed check</td>\n",
              "      <td>53.85</td>\n",
              "      <td>108.15</td>\n",
              "      <td>Yes</td>\n",
              "    </tr>\n",
              "    <tr>\n",
              "      <th>3</th>\n",
              "      <td>7795-CFOCW</td>\n",
              "      <td>Male</td>\n",
              "      <td>0</td>\n",
              "      <td>No</td>\n",
              "      <td>No</td>\n",
              "      <td>45</td>\n",
              "      <td>No</td>\n",
              "      <td>No phone service</td>\n",
              "      <td>DSL</td>\n",
              "      <td>Yes</td>\n",
              "      <td>...</td>\n",
              "      <td>Yes</td>\n",
              "      <td>Yes</td>\n",
              "      <td>No</td>\n",
              "      <td>No</td>\n",
              "      <td>One year</td>\n",
              "      <td>No</td>\n",
              "      <td>Bank transfer (automatic)</td>\n",
              "      <td>42.30</td>\n",
              "      <td>1840.75</td>\n",
              "      <td>No</td>\n",
              "    </tr>\n",
              "    <tr>\n",
              "      <th>4</th>\n",
              "      <td>9237-HQITU</td>\n",
              "      <td>Female</td>\n",
              "      <td>0</td>\n",
              "      <td>No</td>\n",
              "      <td>No</td>\n",
              "      <td>2</td>\n",
              "      <td>Yes</td>\n",
              "      <td>No</td>\n",
              "      <td>Fiber optic</td>\n",
              "      <td>No</td>\n",
              "      <td>...</td>\n",
              "      <td>No</td>\n",
              "      <td>No</td>\n",
              "      <td>No</td>\n",
              "      <td>No</td>\n",
              "      <td>Month-to-month</td>\n",
              "      <td>Yes</td>\n",
              "      <td>Electronic check</td>\n",
              "      <td>70.70</td>\n",
              "      <td>151.65</td>\n",
              "      <td>Yes</td>\n",
              "    </tr>\n",
              "    <tr>\n",
              "      <th>...</th>\n",
              "      <td>...</td>\n",
              "      <td>...</td>\n",
              "      <td>...</td>\n",
              "      <td>...</td>\n",
              "      <td>...</td>\n",
              "      <td>...</td>\n",
              "      <td>...</td>\n",
              "      <td>...</td>\n",
              "      <td>...</td>\n",
              "      <td>...</td>\n",
              "      <td>...</td>\n",
              "      <td>...</td>\n",
              "      <td>...</td>\n",
              "      <td>...</td>\n",
              "      <td>...</td>\n",
              "      <td>...</td>\n",
              "      <td>...</td>\n",
              "      <td>...</td>\n",
              "      <td>...</td>\n",
              "      <td>...</td>\n",
              "      <td>...</td>\n",
              "    </tr>\n",
              "    <tr>\n",
              "      <th>7038</th>\n",
              "      <td>6840-RESVB</td>\n",
              "      <td>Male</td>\n",
              "      <td>0</td>\n",
              "      <td>Yes</td>\n",
              "      <td>Yes</td>\n",
              "      <td>24</td>\n",
              "      <td>Yes</td>\n",
              "      <td>Yes</td>\n",
              "      <td>DSL</td>\n",
              "      <td>Yes</td>\n",
              "      <td>...</td>\n",
              "      <td>Yes</td>\n",
              "      <td>Yes</td>\n",
              "      <td>Yes</td>\n",
              "      <td>Yes</td>\n",
              "      <td>One year</td>\n",
              "      <td>Yes</td>\n",
              "      <td>Mailed check</td>\n",
              "      <td>84.80</td>\n",
              "      <td>1990.5</td>\n",
              "      <td>No</td>\n",
              "    </tr>\n",
              "    <tr>\n",
              "      <th>7039</th>\n",
              "      <td>2234-XADUH</td>\n",
              "      <td>Female</td>\n",
              "      <td>0</td>\n",
              "      <td>Yes</td>\n",
              "      <td>Yes</td>\n",
              "      <td>72</td>\n",
              "      <td>Yes</td>\n",
              "      <td>Yes</td>\n",
              "      <td>Fiber optic</td>\n",
              "      <td>No</td>\n",
              "      <td>...</td>\n",
              "      <td>Yes</td>\n",
              "      <td>No</td>\n",
              "      <td>Yes</td>\n",
              "      <td>Yes</td>\n",
              "      <td>One year</td>\n",
              "      <td>Yes</td>\n",
              "      <td>Credit card (automatic)</td>\n",
              "      <td>103.20</td>\n",
              "      <td>7362.9</td>\n",
              "      <td>No</td>\n",
              "    </tr>\n",
              "    <tr>\n",
              "      <th>7040</th>\n",
              "      <td>4801-JZAZL</td>\n",
              "      <td>Female</td>\n",
              "      <td>0</td>\n",
              "      <td>Yes</td>\n",
              "      <td>Yes</td>\n",
              "      <td>11</td>\n",
              "      <td>No</td>\n",
              "      <td>No phone service</td>\n",
              "      <td>DSL</td>\n",
              "      <td>Yes</td>\n",
              "      <td>...</td>\n",
              "      <td>No</td>\n",
              "      <td>No</td>\n",
              "      <td>No</td>\n",
              "      <td>No</td>\n",
              "      <td>Month-to-month</td>\n",
              "      <td>Yes</td>\n",
              "      <td>Electronic check</td>\n",
              "      <td>29.60</td>\n",
              "      <td>346.45</td>\n",
              "      <td>No</td>\n",
              "    </tr>\n",
              "    <tr>\n",
              "      <th>7041</th>\n",
              "      <td>8361-LTMKD</td>\n",
              "      <td>Male</td>\n",
              "      <td>1</td>\n",
              "      <td>Yes</td>\n",
              "      <td>No</td>\n",
              "      <td>4</td>\n",
              "      <td>Yes</td>\n",
              "      <td>Yes</td>\n",
              "      <td>Fiber optic</td>\n",
              "      <td>No</td>\n",
              "      <td>...</td>\n",
              "      <td>No</td>\n",
              "      <td>No</td>\n",
              "      <td>No</td>\n",
              "      <td>No</td>\n",
              "      <td>Month-to-month</td>\n",
              "      <td>Yes</td>\n",
              "      <td>Mailed check</td>\n",
              "      <td>74.40</td>\n",
              "      <td>306.6</td>\n",
              "      <td>Yes</td>\n",
              "    </tr>\n",
              "    <tr>\n",
              "      <th>7042</th>\n",
              "      <td>3186-AJIEK</td>\n",
              "      <td>Male</td>\n",
              "      <td>0</td>\n",
              "      <td>No</td>\n",
              "      <td>No</td>\n",
              "      <td>66</td>\n",
              "      <td>Yes</td>\n",
              "      <td>No</td>\n",
              "      <td>Fiber optic</td>\n",
              "      <td>Yes</td>\n",
              "      <td>...</td>\n",
              "      <td>Yes</td>\n",
              "      <td>Yes</td>\n",
              "      <td>Yes</td>\n",
              "      <td>Yes</td>\n",
              "      <td>Two year</td>\n",
              "      <td>Yes</td>\n",
              "      <td>Bank transfer (automatic)</td>\n",
              "      <td>105.65</td>\n",
              "      <td>6844.5</td>\n",
              "      <td>No</td>\n",
              "    </tr>\n",
              "  </tbody>\n",
              "</table>\n",
              "<p>7043 rows × 21 columns</p>\n",
              "</div>\n",
              "      <button class=\"colab-df-convert\" onclick=\"convertToInteractive('df-98b801e1-d900-4bc4-918f-22e0613cdeb3')\"\n",
              "              title=\"Convert this dataframe to an interactive table.\"\n",
              "              style=\"display:none;\">\n",
              "        \n",
              "  <svg xmlns=\"http://www.w3.org/2000/svg\" height=\"24px\"viewBox=\"0 0 24 24\"\n",
              "       width=\"24px\">\n",
              "    <path d=\"M0 0h24v24H0V0z\" fill=\"none\"/>\n",
              "    <path d=\"M18.56 5.44l.94 2.06.94-2.06 2.06-.94-2.06-.94-.94-2.06-.94 2.06-2.06.94zm-11 1L8.5 8.5l.94-2.06 2.06-.94-2.06-.94L8.5 2.5l-.94 2.06-2.06.94zm10 10l.94 2.06.94-2.06 2.06-.94-2.06-.94-.94-2.06-.94 2.06-2.06.94z\"/><path d=\"M17.41 7.96l-1.37-1.37c-.4-.4-.92-.59-1.43-.59-.52 0-1.04.2-1.43.59L10.3 9.45l-7.72 7.72c-.78.78-.78 2.05 0 2.83L4 21.41c.39.39.9.59 1.41.59.51 0 1.02-.2 1.41-.59l7.78-7.78 2.81-2.81c.8-.78.8-2.07 0-2.86zM5.41 20L4 18.59l7.72-7.72 1.47 1.35L5.41 20z\"/>\n",
              "  </svg>\n",
              "      </button>\n",
              "      \n",
              "  <style>\n",
              "    .colab-df-container {\n",
              "      display:flex;\n",
              "      flex-wrap:wrap;\n",
              "      gap: 12px;\n",
              "    }\n",
              "\n",
              "    .colab-df-convert {\n",
              "      background-color: #E8F0FE;\n",
              "      border: none;\n",
              "      border-radius: 50%;\n",
              "      cursor: pointer;\n",
              "      display: none;\n",
              "      fill: #1967D2;\n",
              "      height: 32px;\n",
              "      padding: 0 0 0 0;\n",
              "      width: 32px;\n",
              "    }\n",
              "\n",
              "    .colab-df-convert:hover {\n",
              "      background-color: #E2EBFA;\n",
              "      box-shadow: 0px 1px 2px rgba(60, 64, 67, 0.3), 0px 1px 3px 1px rgba(60, 64, 67, 0.15);\n",
              "      fill: #174EA6;\n",
              "    }\n",
              "\n",
              "    [theme=dark] .colab-df-convert {\n",
              "      background-color: #3B4455;\n",
              "      fill: #D2E3FC;\n",
              "    }\n",
              "\n",
              "    [theme=dark] .colab-df-convert:hover {\n",
              "      background-color: #434B5C;\n",
              "      box-shadow: 0px 1px 3px 1px rgba(0, 0, 0, 0.15);\n",
              "      filter: drop-shadow(0px 1px 2px rgba(0, 0, 0, 0.3));\n",
              "      fill: #FFFFFF;\n",
              "    }\n",
              "  </style>\n",
              "\n",
              "      <script>\n",
              "        const buttonEl =\n",
              "          document.querySelector('#df-98b801e1-d900-4bc4-918f-22e0613cdeb3 button.colab-df-convert');\n",
              "        buttonEl.style.display =\n",
              "          google.colab.kernel.accessAllowed ? 'block' : 'none';\n",
              "\n",
              "        async function convertToInteractive(key) {\n",
              "          const element = document.querySelector('#df-98b801e1-d900-4bc4-918f-22e0613cdeb3');\n",
              "          const dataTable =\n",
              "            await google.colab.kernel.invokeFunction('convertToInteractive',\n",
              "                                                     [key], {});\n",
              "          if (!dataTable) return;\n",
              "\n",
              "          const docLinkHtml = 'Like what you see? Visit the ' +\n",
              "            '<a target=\"_blank\" href=https://colab.research.google.com/notebooks/data_table.ipynb>data table notebook</a>'\n",
              "            + ' to learn more about interactive tables.';\n",
              "          element.innerHTML = '';\n",
              "          dataTable['output_type'] = 'display_data';\n",
              "          await google.colab.output.renderOutput(dataTable, element);\n",
              "          const docLink = document.createElement('div');\n",
              "          docLink.innerHTML = docLinkHtml;\n",
              "          element.appendChild(docLink);\n",
              "        }\n",
              "      </script>\n",
              "    </div>\n",
              "  </div>\n",
              "  "
            ]
          },
          "metadata": {},
          "execution_count": 3
        }
      ]
    },
    {
      "cell_type": "code",
      "source": [
        "data = data.iloc[:,1:]\n",
        "data.info()\n"
      ],
      "metadata": {
        "colab": {
          "base_uri": "https://localhost:8080/"
        },
        "id": "XBwTheSFVnwT",
        "outputId": "b4679f47-5280-48ee-a81f-ed1ae78b2a46"
      },
      "execution_count": 4,
      "outputs": [
        {
          "output_type": "stream",
          "name": "stdout",
          "text": [
            "<class 'pandas.core.frame.DataFrame'>\n",
            "RangeIndex: 7043 entries, 0 to 7042\n",
            "Data columns (total 20 columns):\n",
            " #   Column            Non-Null Count  Dtype  \n",
            "---  ------            --------------  -----  \n",
            " 0   gender            7043 non-null   object \n",
            " 1   SeniorCitizen     7043 non-null   int64  \n",
            " 2   Partner           7043 non-null   object \n",
            " 3   Dependents        7043 non-null   object \n",
            " 4   tenure            7043 non-null   int64  \n",
            " 5   PhoneService      7043 non-null   object \n",
            " 6   MultipleLines     7043 non-null   object \n",
            " 7   InternetService   7043 non-null   object \n",
            " 8   OnlineSecurity    7043 non-null   object \n",
            " 9   OnlineBackup      7043 non-null   object \n",
            " 10  DeviceProtection  7043 non-null   object \n",
            " 11  TechSupport       7043 non-null   object \n",
            " 12  StreamingTV       7043 non-null   object \n",
            " 13  StreamingMovies   7043 non-null   object \n",
            " 14  Contract          7043 non-null   object \n",
            " 15  PaperlessBilling  7043 non-null   object \n",
            " 16  PaymentMethod     7043 non-null   object \n",
            " 17  MonthlyCharges    7043 non-null   float64\n",
            " 18  TotalCharges      7043 non-null   object \n",
            " 19  Churn             7043 non-null   object \n",
            "dtypes: float64(1), int64(2), object(17)\n",
            "memory usage: 1.1+ MB\n"
          ]
        }
      ]
    },
    {
      "cell_type": "code",
      "source": [
        "data.TotalCharges=pd.to_numeric(data.TotalCharges,errors='coerce')\n",
        "data.isnull().any()"
      ],
      "metadata": {
        "colab": {
          "base_uri": "https://localhost:8080/"
        },
        "id": "v7L5j-rgqEWo",
        "outputId": "f5d1c4a8-424c-424d-8809-27cd6daad428"
      },
      "execution_count": 5,
      "outputs": [
        {
          "output_type": "execute_result",
          "data": {
            "text/plain": [
              "gender              False\n",
              "SeniorCitizen       False\n",
              "Partner             False\n",
              "Dependents          False\n",
              "tenure              False\n",
              "PhoneService        False\n",
              "MultipleLines       False\n",
              "InternetService     False\n",
              "OnlineSecurity      False\n",
              "OnlineBackup        False\n",
              "DeviceProtection    False\n",
              "TechSupport         False\n",
              "StreamingTV         False\n",
              "StreamingMovies     False\n",
              "Contract            False\n",
              "PaperlessBilling    False\n",
              "PaymentMethod       False\n",
              "MonthlyCharges      False\n",
              "TotalCharges         True\n",
              "Churn               False\n",
              "dtype: bool"
            ]
          },
          "metadata": {},
          "execution_count": 5
        }
      ]
    },
    {
      "cell_type": "code",
      "source": [
        "data.TotalCharges.fillna(data.TotalCharges.mean(), inplace=True)\n",
        "data.isnull().sum()"
      ],
      "metadata": {
        "colab": {
          "base_uri": "https://localhost:8080/"
        },
        "id": "EBMg8oqYqg3a",
        "outputId": "15f5e568-b942-4022-d62c-bca52479fc81"
      },
      "execution_count": 6,
      "outputs": [
        {
          "output_type": "execute_result",
          "data": {
            "text/plain": [
              "gender              0\n",
              "SeniorCitizen       0\n",
              "Partner             0\n",
              "Dependents          0\n",
              "tenure              0\n",
              "PhoneService        0\n",
              "MultipleLines       0\n",
              "InternetService     0\n",
              "OnlineSecurity      0\n",
              "OnlineBackup        0\n",
              "DeviceProtection    0\n",
              "TechSupport         0\n",
              "StreamingTV         0\n",
              "StreamingMovies     0\n",
              "Contract            0\n",
              "PaperlessBilling    0\n",
              "PaymentMethod       0\n",
              "MonthlyCharges      0\n",
              "TotalCharges        0\n",
              "Churn               0\n",
              "dtype: int64"
            ]
          },
          "metadata": {},
          "execution_count": 6
        }
      ]
    },
    {
      "cell_type": "code",
      "source": [
        "from sklearn.preprocessing import LabelEncoder\n",
        "le=LabelEncoder()\n",
        "data[\"gender\"]=le.fit_transform(data[\"gender\"])\n",
        "data[\"Partner\"]=le.fit_transform(data[\"Partner\"])\n",
        "data[\"Dependents\"]=le.fit_transform(data[\"Dependents\"])\n",
        "data[\"PhoneService\"]=le.fit_transform(data[\"PhoneService\"])\n",
        "data[\"MultipleLines\"]=le.fit_transform(data[\"MultipleLines\"])\n",
        "data[\"InternetService\"]=le.fit_transform(data[\"InternetService\"])\n",
        "data[\"OnlineSecurity\"]=le.fit_transform(data[\"OnlineSecurity\"])\n",
        "data[\"OnlineBackup\"]=le.fit_transform(data[\"OnlineBackup\"])\n",
        "data[\"DeviceProtection\"]=le.fit_transform(data[\"DeviceProtection\"])\n",
        "data[\"TechSupport\"]=le.fit_transform(data[\"TechSupport\"])\n",
        "data[\"StreamingTV\"]=le.fit_transform(data[\"StreamingTV\"])\n",
        "data[\"StreamingMovies\"]=le.fit_transform(data[\"StreamingMovies\"])\n",
        "data[\"Contract\"]=le.fit_transform(data[\"Contract\"])\n",
        "data[\"PaperlessBilling\"]=le.fit_transform(data[\"PaperlessBilling\"])\n",
        "data[\"PaymentMethod\"]=le.fit_transform(data[\"PaymentMethod\"])\n",
        "data[\"Churn\"]=le.fit_transform(data[\"Churn\"])"
      ],
      "metadata": {
        "id": "DPW5rnoasRkt"
      },
      "execution_count": 7,
      "outputs": []
    },
    {
      "cell_type": "code",
      "source": [
        "data.head()\n"
      ],
      "metadata": {
        "colab": {
          "base_uri": "https://localhost:8080/",
          "height": 270
        },
        "id": "hW7ndyj_yhMP",
        "outputId": "3e1e4992-489d-4e5c-8c99-3a5f7a0a75b0"
      },
      "execution_count": 8,
      "outputs": [
        {
          "output_type": "execute_result",
          "data": {
            "text/plain": [
              "   gender  SeniorCitizen  Partner  Dependents  tenure  PhoneService  \\\n",
              "0       0              0        1           0       1             0   \n",
              "1       1              0        0           0      34             1   \n",
              "2       1              0        0           0       2             1   \n",
              "3       1              0        0           0      45             0   \n",
              "4       0              0        0           0       2             1   \n",
              "\n",
              "   MultipleLines  InternetService  OnlineSecurity  OnlineBackup  \\\n",
              "0              1                0               0             2   \n",
              "1              0                0               2             0   \n",
              "2              0                0               2             2   \n",
              "3              1                0               2             0   \n",
              "4              0                1               0             0   \n",
              "\n",
              "   DeviceProtection  TechSupport  StreamingTV  StreamingMovies  Contract  \\\n",
              "0                 0            0            0                0         0   \n",
              "1                 2            0            0                0         1   \n",
              "2                 0            0            0                0         0   \n",
              "3                 2            2            0                0         1   \n",
              "4                 0            0            0                0         0   \n",
              "\n",
              "   PaperlessBilling  PaymentMethod  MonthlyCharges  TotalCharges  Churn  \n",
              "0                 1              2           29.85         29.85      0  \n",
              "1                 0              3           56.95       1889.50      0  \n",
              "2                 1              3           53.85        108.15      1  \n",
              "3                 0              0           42.30       1840.75      0  \n",
              "4                 1              2           70.70        151.65      1  "
            ],
            "text/html": [
              "\n",
              "  <div id=\"df-1d6a247a-9b98-4a2a-8db8-a866208e06e6\">\n",
              "    <div class=\"colab-df-container\">\n",
              "      <div>\n",
              "<style scoped>\n",
              "    .dataframe tbody tr th:only-of-type {\n",
              "        vertical-align: middle;\n",
              "    }\n",
              "\n",
              "    .dataframe tbody tr th {\n",
              "        vertical-align: top;\n",
              "    }\n",
              "\n",
              "    .dataframe thead th {\n",
              "        text-align: right;\n",
              "    }\n",
              "</style>\n",
              "<table border=\"1\" class=\"dataframe\">\n",
              "  <thead>\n",
              "    <tr style=\"text-align: right;\">\n",
              "      <th></th>\n",
              "      <th>gender</th>\n",
              "      <th>SeniorCitizen</th>\n",
              "      <th>Partner</th>\n",
              "      <th>Dependents</th>\n",
              "      <th>tenure</th>\n",
              "      <th>PhoneService</th>\n",
              "      <th>MultipleLines</th>\n",
              "      <th>InternetService</th>\n",
              "      <th>OnlineSecurity</th>\n",
              "      <th>OnlineBackup</th>\n",
              "      <th>DeviceProtection</th>\n",
              "      <th>TechSupport</th>\n",
              "      <th>StreamingTV</th>\n",
              "      <th>StreamingMovies</th>\n",
              "      <th>Contract</th>\n",
              "      <th>PaperlessBilling</th>\n",
              "      <th>PaymentMethod</th>\n",
              "      <th>MonthlyCharges</th>\n",
              "      <th>TotalCharges</th>\n",
              "      <th>Churn</th>\n",
              "    </tr>\n",
              "  </thead>\n",
              "  <tbody>\n",
              "    <tr>\n",
              "      <th>0</th>\n",
              "      <td>0</td>\n",
              "      <td>0</td>\n",
              "      <td>1</td>\n",
              "      <td>0</td>\n",
              "      <td>1</td>\n",
              "      <td>0</td>\n",
              "      <td>1</td>\n",
              "      <td>0</td>\n",
              "      <td>0</td>\n",
              "      <td>2</td>\n",
              "      <td>0</td>\n",
              "      <td>0</td>\n",
              "      <td>0</td>\n",
              "      <td>0</td>\n",
              "      <td>0</td>\n",
              "      <td>1</td>\n",
              "      <td>2</td>\n",
              "      <td>29.85</td>\n",
              "      <td>29.85</td>\n",
              "      <td>0</td>\n",
              "    </tr>\n",
              "    <tr>\n",
              "      <th>1</th>\n",
              "      <td>1</td>\n",
              "      <td>0</td>\n",
              "      <td>0</td>\n",
              "      <td>0</td>\n",
              "      <td>34</td>\n",
              "      <td>1</td>\n",
              "      <td>0</td>\n",
              "      <td>0</td>\n",
              "      <td>2</td>\n",
              "      <td>0</td>\n",
              "      <td>2</td>\n",
              "      <td>0</td>\n",
              "      <td>0</td>\n",
              "      <td>0</td>\n",
              "      <td>1</td>\n",
              "      <td>0</td>\n",
              "      <td>3</td>\n",
              "      <td>56.95</td>\n",
              "      <td>1889.50</td>\n",
              "      <td>0</td>\n",
              "    </tr>\n",
              "    <tr>\n",
              "      <th>2</th>\n",
              "      <td>1</td>\n",
              "      <td>0</td>\n",
              "      <td>0</td>\n",
              "      <td>0</td>\n",
              "      <td>2</td>\n",
              "      <td>1</td>\n",
              "      <td>0</td>\n",
              "      <td>0</td>\n",
              "      <td>2</td>\n",
              "      <td>2</td>\n",
              "      <td>0</td>\n",
              "      <td>0</td>\n",
              "      <td>0</td>\n",
              "      <td>0</td>\n",
              "      <td>0</td>\n",
              "      <td>1</td>\n",
              "      <td>3</td>\n",
              "      <td>53.85</td>\n",
              "      <td>108.15</td>\n",
              "      <td>1</td>\n",
              "    </tr>\n",
              "    <tr>\n",
              "      <th>3</th>\n",
              "      <td>1</td>\n",
              "      <td>0</td>\n",
              "      <td>0</td>\n",
              "      <td>0</td>\n",
              "      <td>45</td>\n",
              "      <td>0</td>\n",
              "      <td>1</td>\n",
              "      <td>0</td>\n",
              "      <td>2</td>\n",
              "      <td>0</td>\n",
              "      <td>2</td>\n",
              "      <td>2</td>\n",
              "      <td>0</td>\n",
              "      <td>0</td>\n",
              "      <td>1</td>\n",
              "      <td>0</td>\n",
              "      <td>0</td>\n",
              "      <td>42.30</td>\n",
              "      <td>1840.75</td>\n",
              "      <td>0</td>\n",
              "    </tr>\n",
              "    <tr>\n",
              "      <th>4</th>\n",
              "      <td>0</td>\n",
              "      <td>0</td>\n",
              "      <td>0</td>\n",
              "      <td>0</td>\n",
              "      <td>2</td>\n",
              "      <td>1</td>\n",
              "      <td>0</td>\n",
              "      <td>1</td>\n",
              "      <td>0</td>\n",
              "      <td>0</td>\n",
              "      <td>0</td>\n",
              "      <td>0</td>\n",
              "      <td>0</td>\n",
              "      <td>0</td>\n",
              "      <td>0</td>\n",
              "      <td>1</td>\n",
              "      <td>2</td>\n",
              "      <td>70.70</td>\n",
              "      <td>151.65</td>\n",
              "      <td>1</td>\n",
              "    </tr>\n",
              "  </tbody>\n",
              "</table>\n",
              "</div>\n",
              "      <button class=\"colab-df-convert\" onclick=\"convertToInteractive('df-1d6a247a-9b98-4a2a-8db8-a866208e06e6')\"\n",
              "              title=\"Convert this dataframe to an interactive table.\"\n",
              "              style=\"display:none;\">\n",
              "        \n",
              "  <svg xmlns=\"http://www.w3.org/2000/svg\" height=\"24px\"viewBox=\"0 0 24 24\"\n",
              "       width=\"24px\">\n",
              "    <path d=\"M0 0h24v24H0V0z\" fill=\"none\"/>\n",
              "    <path d=\"M18.56 5.44l.94 2.06.94-2.06 2.06-.94-2.06-.94-.94-2.06-.94 2.06-2.06.94zm-11 1L8.5 8.5l.94-2.06 2.06-.94-2.06-.94L8.5 2.5l-.94 2.06-2.06.94zm10 10l.94 2.06.94-2.06 2.06-.94-2.06-.94-.94-2.06-.94 2.06-2.06.94z\"/><path d=\"M17.41 7.96l-1.37-1.37c-.4-.4-.92-.59-1.43-.59-.52 0-1.04.2-1.43.59L10.3 9.45l-7.72 7.72c-.78.78-.78 2.05 0 2.83L4 21.41c.39.39.9.59 1.41.59.51 0 1.02-.2 1.41-.59l7.78-7.78 2.81-2.81c.8-.78.8-2.07 0-2.86zM5.41 20L4 18.59l7.72-7.72 1.47 1.35L5.41 20z\"/>\n",
              "  </svg>\n",
              "      </button>\n",
              "      \n",
              "  <style>\n",
              "    .colab-df-container {\n",
              "      display:flex;\n",
              "      flex-wrap:wrap;\n",
              "      gap: 12px;\n",
              "    }\n",
              "\n",
              "    .colab-df-convert {\n",
              "      background-color: #E8F0FE;\n",
              "      border: none;\n",
              "      border-radius: 50%;\n",
              "      cursor: pointer;\n",
              "      display: none;\n",
              "      fill: #1967D2;\n",
              "      height: 32px;\n",
              "      padding: 0 0 0 0;\n",
              "      width: 32px;\n",
              "    }\n",
              "\n",
              "    .colab-df-convert:hover {\n",
              "      background-color: #E2EBFA;\n",
              "      box-shadow: 0px 1px 2px rgba(60, 64, 67, 0.3), 0px 1px 3px 1px rgba(60, 64, 67, 0.15);\n",
              "      fill: #174EA6;\n",
              "    }\n",
              "\n",
              "    [theme=dark] .colab-df-convert {\n",
              "      background-color: #3B4455;\n",
              "      fill: #D2E3FC;\n",
              "    }\n",
              "\n",
              "    [theme=dark] .colab-df-convert:hover {\n",
              "      background-color: #434B5C;\n",
              "      box-shadow: 0px 1px 3px 1px rgba(0, 0, 0, 0.15);\n",
              "      filter: drop-shadow(0px 1px 2px rgba(0, 0, 0, 0.3));\n",
              "      fill: #FFFFFF;\n",
              "    }\n",
              "  </style>\n",
              "\n",
              "      <script>\n",
              "        const buttonEl =\n",
              "          document.querySelector('#df-1d6a247a-9b98-4a2a-8db8-a866208e06e6 button.colab-df-convert');\n",
              "        buttonEl.style.display =\n",
              "          google.colab.kernel.accessAllowed ? 'block' : 'none';\n",
              "\n",
              "        async function convertToInteractive(key) {\n",
              "          const element = document.querySelector('#df-1d6a247a-9b98-4a2a-8db8-a866208e06e6');\n",
              "          const dataTable =\n",
              "            await google.colab.kernel.invokeFunction('convertToInteractive',\n",
              "                                                     [key], {});\n",
              "          if (!dataTable) return;\n",
              "\n",
              "          const docLinkHtml = 'Like what you see? Visit the ' +\n",
              "            '<a target=\"_blank\" href=https://colab.research.google.com/notebooks/data_table.ipynb>data table notebook</a>'\n",
              "            + ' to learn more about interactive tables.';\n",
              "          element.innerHTML = '';\n",
              "          dataTable['output_type'] = 'display_data';\n",
              "          await google.colab.output.renderOutput(dataTable, element);\n",
              "          const docLink = document.createElement('div');\n",
              "          docLink.innerHTML = docLinkHtml;\n",
              "          element.appendChild(docLink);\n",
              "        }\n",
              "      </script>\n",
              "    </div>\n",
              "  </div>\n",
              "  "
            ]
          },
          "metadata": {},
          "execution_count": 8
        }
      ]
    },
    {
      "cell_type": "code",
      "source": [
        "x=data.iloc[:,0:19].values\n",
        "y=data.iloc[:,19:20].values"
      ],
      "metadata": {
        "id": "cUP_U1BuywlW"
      },
      "execution_count": 10,
      "outputs": []
    },
    {
      "cell_type": "code",
      "source": [
        "x\n"
      ],
      "metadata": {
        "colab": {
          "base_uri": "https://localhost:8080/"
        },
        "id": "htjR9itPzE5x",
        "outputId": "3952e2e2-9799-41e5-b17e-47075a392e4d"
      },
      "execution_count": 11,
      "outputs": [
        {
          "output_type": "execute_result",
          "data": {
            "text/plain": [
              "array([[0.0000e+00, 0.0000e+00, 1.0000e+00, ..., 2.0000e+00, 2.9850e+01,\n",
              "        2.9850e+01],\n",
              "       [1.0000e+00, 0.0000e+00, 0.0000e+00, ..., 3.0000e+00, 5.6950e+01,\n",
              "        1.8895e+03],\n",
              "       [1.0000e+00, 0.0000e+00, 0.0000e+00, ..., 3.0000e+00, 5.3850e+01,\n",
              "        1.0815e+02],\n",
              "       ...,\n",
              "       [0.0000e+00, 0.0000e+00, 1.0000e+00, ..., 2.0000e+00, 2.9600e+01,\n",
              "        3.4645e+02],\n",
              "       [1.0000e+00, 1.0000e+00, 1.0000e+00, ..., 3.0000e+00, 7.4400e+01,\n",
              "        3.0660e+02],\n",
              "       [1.0000e+00, 0.0000e+00, 0.0000e+00, ..., 0.0000e+00, 1.0565e+02,\n",
              "        6.8445e+03]])"
            ]
          },
          "metadata": {},
          "execution_count": 11
        }
      ]
    },
    {
      "cell_type": "code",
      "source": [
        "y"
      ],
      "metadata": {
        "colab": {
          "base_uri": "https://localhost:8080/"
        },
        "id": "4EMBOjeOzLMG",
        "outputId": "fa3bb417-1791-4712-ae99-78f472611cf9"
      },
      "execution_count": 12,
      "outputs": [
        {
          "output_type": "execute_result",
          "data": {
            "text/plain": [
              "array([[0],\n",
              "       [0],\n",
              "       [1],\n",
              "       ...,\n",
              "       [0],\n",
              "       [1],\n",
              "       [0]])"
            ]
          },
          "metadata": {},
          "execution_count": 12
        }
      ]
    },
    {
      "cell_type": "code",
      "source": [
        "from sklearn.preprocessing import OneHotEncoder\n",
        "one=OneHotEncoder()\n",
        "a=one.fit_transform(x[:,6:7]).toarray()\n",
        "b=one.fit_transform(x[:,7:8]).toarray()\n",
        "c=one.fit_transform(x[:,8:9]).toarray()\n",
        "d=one.fit_transform(x[:,9:10]).toarray()\n",
        "e=one.fit_transform(x[:,10:11]).toarray()\n",
        "f=one.fit_transform(x[:,11:12]).toarray()\n",
        "g=one.fit_transform(x[:,12:13]).toarray()\n",
        "h=one.fit_transform(x[:,13:14]).toarray()\n",
        "i=one.fit_transform(x[:,14:15]).toarray()\n",
        "j=one.fit_transform(x[:,16:17]).toarray()\n",
        "x=np.delete(x,[6,7,8,9,10,11,12,13,14,16],axis=1)\n",
        "x=np.concatenate((a,b,c,d,e,f,g,h,i,j,x),axis=1)\n"
      ],
      "metadata": {
        "id": "sk55_UPgzrfh"
      },
      "execution_count": 13,
      "outputs": []
    },
    {
      "cell_type": "code",
      "source": [
        "x\n"
      ],
      "metadata": {
        "colab": {
          "base_uri": "https://localhost:8080/"
        },
        "id": "JjZY1SYJ2t5D",
        "outputId": "63b3c7cc-94d8-46ad-feba-1b9154cfb04a"
      },
      "execution_count": 14,
      "outputs": [
        {
          "output_type": "execute_result",
          "data": {
            "text/plain": [
              "array([[0.0000e+00, 1.0000e+00, 0.0000e+00, ..., 1.0000e+00, 2.9850e+01,\n",
              "        2.9850e+01],\n",
              "       [1.0000e+00, 0.0000e+00, 0.0000e+00, ..., 0.0000e+00, 5.6950e+01,\n",
              "        1.8895e+03],\n",
              "       [1.0000e+00, 0.0000e+00, 0.0000e+00, ..., 1.0000e+00, 5.3850e+01,\n",
              "        1.0815e+02],\n",
              "       ...,\n",
              "       [0.0000e+00, 1.0000e+00, 0.0000e+00, ..., 1.0000e+00, 2.9600e+01,\n",
              "        3.4645e+02],\n",
              "       [0.0000e+00, 0.0000e+00, 1.0000e+00, ..., 1.0000e+00, 7.4400e+01,\n",
              "        3.0660e+02],\n",
              "       [1.0000e+00, 0.0000e+00, 0.0000e+00, ..., 1.0000e+00, 1.0565e+02,\n",
              "        6.8445e+03]])"
            ]
          },
          "metadata": {},
          "execution_count": 14
        }
      ]
    },
    {
      "cell_type": "code",
      "source": [
        "y"
      ],
      "metadata": {
        "colab": {
          "base_uri": "https://localhost:8080/"
        },
        "id": "gXOyaZiJ2y6i",
        "outputId": "0e43cb84-278b-49f4-98cc-9c2d5b8b5a2b"
      },
      "execution_count": 15,
      "outputs": [
        {
          "output_type": "execute_result",
          "data": {
            "text/plain": [
              "array([[0],\n",
              "       [0],\n",
              "       [1],\n",
              "       ...,\n",
              "       [0],\n",
              "       [1],\n",
              "       [0]])"
            ]
          },
          "metadata": {},
          "execution_count": 15
        }
      ]
    },
    {
      "cell_type": "code",
      "source": [
        "from imblearn.over_sampling import SMOTE\n",
        "sm = SMOTE()\n",
        "x_resampled, y_resampled = sm.fit_resample(x, y)"
      ],
      "metadata": {
        "id": "idVxub0E0_IW"
      },
      "execution_count": 16,
      "outputs": []
    },
    {
      "cell_type": "code",
      "source": [
        "x_resampled"
      ],
      "metadata": {
        "colab": {
          "base_uri": "https://localhost:8080/"
        },
        "id": "MG5YWJCz4fAI",
        "outputId": "037d3dc8-c2e5-4c93-b3b2-ec5329556a92"
      },
      "execution_count": 17,
      "outputs": [
        {
          "output_type": "execute_result",
          "data": {
            "text/plain": [
              "array([[0.00000000e+00, 1.00000000e+00, 0.00000000e+00, ...,\n",
              "        1.00000000e+00, 2.98500000e+01, 2.98500000e+01],\n",
              "       [1.00000000e+00, 0.00000000e+00, 0.00000000e+00, ...,\n",
              "        0.00000000e+00, 5.69500000e+01, 1.88950000e+03],\n",
              "       [1.00000000e+00, 0.00000000e+00, 0.00000000e+00, ...,\n",
              "        1.00000000e+00, 5.38500000e+01, 1.08150000e+02],\n",
              "       ...,\n",
              "       [0.00000000e+00, 0.00000000e+00, 1.00000000e+00, ...,\n",
              "        1.00000000e+00, 1.01372937e+02, 2.48954129e+03],\n",
              "       [0.00000000e+00, 0.00000000e+00, 1.00000000e+00, ...,\n",
              "        1.00000000e+00, 1.07716086e+02, 5.53516561e+03],\n",
              "       [4.85936934e-01, 0.00000000e+00, 5.14063066e-01, ...,\n",
              "        5.14063066e-01, 9.20199927e+01, 1.71654212e+03]])"
            ]
          },
          "metadata": {},
          "execution_count": 17
        }
      ]
    },
    {
      "cell_type": "code",
      "source": [
        "y_resampled"
      ],
      "metadata": {
        "colab": {
          "base_uri": "https://localhost:8080/"
        },
        "id": "YcQI5Wbo4i5i",
        "outputId": "cf3fc87a-a40e-4f36-ceea-62f84b54c8ee"
      },
      "execution_count": 18,
      "outputs": [
        {
          "output_type": "execute_result",
          "data": {
            "text/plain": [
              "array([0, 0, 1, ..., 1, 1, 1])"
            ]
          },
          "metadata": {},
          "execution_count": 18
        }
      ]
    },
    {
      "cell_type": "code",
      "source": [
        "x.shape,x_resampled.shape"
      ],
      "metadata": {
        "colab": {
          "base_uri": "https://localhost:8080/"
        },
        "id": "Uhp6cACq4nRQ",
        "outputId": "41aefc10-e67b-4a29-c9b6-0b3278b0c10d"
      },
      "execution_count": 19,
      "outputs": [
        {
          "output_type": "execute_result",
          "data": {
            "text/plain": [
              "((7043, 40), (10348, 40))"
            ]
          },
          "metadata": {},
          "execution_count": 19
        }
      ]
    },
    {
      "cell_type": "code",
      "source": [
        "y.shape,y_resampled.shape"
      ],
      "metadata": {
        "colab": {
          "base_uri": "https://localhost:8080/"
        },
        "id": "Xvd5kBfH8WO3",
        "outputId": "956cde0b-2879-4154-a8f4-887f1b81e0ef"
      },
      "execution_count": 20,
      "outputs": [
        {
          "output_type": "execute_result",
          "data": {
            "text/plain": [
              "((7043, 1), (10348,))"
            ]
          },
          "metadata": {},
          "execution_count": 20
        }
      ]
    },
    {
      "cell_type": "code",
      "source": [
        "data.describe()"
      ],
      "metadata": {
        "colab": {
          "base_uri": "https://localhost:8080/",
          "height": 364
        },
        "id": "tap-s6eR_Rql",
        "outputId": "cbd1d285-cf6f-4d9d-a049-cac4f7f17dc1"
      },
      "execution_count": 21,
      "outputs": [
        {
          "output_type": "execute_result",
          "data": {
            "text/plain": [
              "            gender  SeniorCitizen      Partner   Dependents       tenure  \\\n",
              "count  7043.000000    7043.000000  7043.000000  7043.000000  7043.000000   \n",
              "mean      0.504756       0.162147     0.483033     0.299588    32.371149   \n",
              "std       0.500013       0.368612     0.499748     0.458110    24.559481   \n",
              "min       0.000000       0.000000     0.000000     0.000000     0.000000   \n",
              "25%       0.000000       0.000000     0.000000     0.000000     9.000000   \n",
              "50%       1.000000       0.000000     0.000000     0.000000    29.000000   \n",
              "75%       1.000000       0.000000     1.000000     1.000000    55.000000   \n",
              "max       1.000000       1.000000     1.000000     1.000000    72.000000   \n",
              "\n",
              "       PhoneService  MultipleLines  InternetService  OnlineSecurity  \\\n",
              "count   7043.000000    7043.000000      7043.000000     7043.000000   \n",
              "mean       0.903166       0.940508         0.872923        0.790004   \n",
              "std        0.295752       0.948554         0.737796        0.859848   \n",
              "min        0.000000       0.000000         0.000000        0.000000   \n",
              "25%        1.000000       0.000000         0.000000        0.000000   \n",
              "50%        1.000000       1.000000         1.000000        1.000000   \n",
              "75%        1.000000       2.000000         1.000000        2.000000   \n",
              "max        1.000000       2.000000         2.000000        2.000000   \n",
              "\n",
              "       OnlineBackup  DeviceProtection  TechSupport  StreamingTV  \\\n",
              "count   7043.000000       7043.000000  7043.000000  7043.000000   \n",
              "mean       0.906432          0.904444     0.797104     0.985376   \n",
              "std        0.880162          0.879949     0.861551     0.885002   \n",
              "min        0.000000          0.000000     0.000000     0.000000   \n",
              "25%        0.000000          0.000000     0.000000     0.000000   \n",
              "50%        1.000000          1.000000     1.000000     1.000000   \n",
              "75%        2.000000          2.000000     2.000000     2.000000   \n",
              "max        2.000000          2.000000     2.000000     2.000000   \n",
              "\n",
              "       StreamingMovies     Contract  PaperlessBilling  PaymentMethod  \\\n",
              "count      7043.000000  7043.000000       7043.000000    7043.000000   \n",
              "mean          0.992475     0.690473          0.592219       1.574329   \n",
              "std           0.885091     0.833755          0.491457       1.068104   \n",
              "min           0.000000     0.000000          0.000000       0.000000   \n",
              "25%           0.000000     0.000000          0.000000       1.000000   \n",
              "50%           1.000000     0.000000          1.000000       2.000000   \n",
              "75%           2.000000     1.000000          1.000000       2.000000   \n",
              "max           2.000000     2.000000          1.000000       3.000000   \n",
              "\n",
              "       MonthlyCharges  TotalCharges        Churn  \n",
              "count     7043.000000   7043.000000  7043.000000  \n",
              "mean        64.761692   2283.300441     0.265370  \n",
              "std         30.090047   2265.000258     0.441561  \n",
              "min         18.250000     18.800000     0.000000  \n",
              "25%         35.500000    402.225000     0.000000  \n",
              "50%         70.350000   1400.550000     0.000000  \n",
              "75%         89.850000   3786.600000     1.000000  \n",
              "max        118.750000   8684.800000     1.000000  "
            ],
            "text/html": [
              "\n",
              "  <div id=\"df-517690b9-c090-44e5-bd96-d3fceb1151b3\">\n",
              "    <div class=\"colab-df-container\">\n",
              "      <div>\n",
              "<style scoped>\n",
              "    .dataframe tbody tr th:only-of-type {\n",
              "        vertical-align: middle;\n",
              "    }\n",
              "\n",
              "    .dataframe tbody tr th {\n",
              "        vertical-align: top;\n",
              "    }\n",
              "\n",
              "    .dataframe thead th {\n",
              "        text-align: right;\n",
              "    }\n",
              "</style>\n",
              "<table border=\"1\" class=\"dataframe\">\n",
              "  <thead>\n",
              "    <tr style=\"text-align: right;\">\n",
              "      <th></th>\n",
              "      <th>gender</th>\n",
              "      <th>SeniorCitizen</th>\n",
              "      <th>Partner</th>\n",
              "      <th>Dependents</th>\n",
              "      <th>tenure</th>\n",
              "      <th>PhoneService</th>\n",
              "      <th>MultipleLines</th>\n",
              "      <th>InternetService</th>\n",
              "      <th>OnlineSecurity</th>\n",
              "      <th>OnlineBackup</th>\n",
              "      <th>DeviceProtection</th>\n",
              "      <th>TechSupport</th>\n",
              "      <th>StreamingTV</th>\n",
              "      <th>StreamingMovies</th>\n",
              "      <th>Contract</th>\n",
              "      <th>PaperlessBilling</th>\n",
              "      <th>PaymentMethod</th>\n",
              "      <th>MonthlyCharges</th>\n",
              "      <th>TotalCharges</th>\n",
              "      <th>Churn</th>\n",
              "    </tr>\n",
              "  </thead>\n",
              "  <tbody>\n",
              "    <tr>\n",
              "      <th>count</th>\n",
              "      <td>7043.000000</td>\n",
              "      <td>7043.000000</td>\n",
              "      <td>7043.000000</td>\n",
              "      <td>7043.000000</td>\n",
              "      <td>7043.000000</td>\n",
              "      <td>7043.000000</td>\n",
              "      <td>7043.000000</td>\n",
              "      <td>7043.000000</td>\n",
              "      <td>7043.000000</td>\n",
              "      <td>7043.000000</td>\n",
              "      <td>7043.000000</td>\n",
              "      <td>7043.000000</td>\n",
              "      <td>7043.000000</td>\n",
              "      <td>7043.000000</td>\n",
              "      <td>7043.000000</td>\n",
              "      <td>7043.000000</td>\n",
              "      <td>7043.000000</td>\n",
              "      <td>7043.000000</td>\n",
              "      <td>7043.000000</td>\n",
              "      <td>7043.000000</td>\n",
              "    </tr>\n",
              "    <tr>\n",
              "      <th>mean</th>\n",
              "      <td>0.504756</td>\n",
              "      <td>0.162147</td>\n",
              "      <td>0.483033</td>\n",
              "      <td>0.299588</td>\n",
              "      <td>32.371149</td>\n",
              "      <td>0.903166</td>\n",
              "      <td>0.940508</td>\n",
              "      <td>0.872923</td>\n",
              "      <td>0.790004</td>\n",
              "      <td>0.906432</td>\n",
              "      <td>0.904444</td>\n",
              "      <td>0.797104</td>\n",
              "      <td>0.985376</td>\n",
              "      <td>0.992475</td>\n",
              "      <td>0.690473</td>\n",
              "      <td>0.592219</td>\n",
              "      <td>1.574329</td>\n",
              "      <td>64.761692</td>\n",
              "      <td>2283.300441</td>\n",
              "      <td>0.265370</td>\n",
              "    </tr>\n",
              "    <tr>\n",
              "      <th>std</th>\n",
              "      <td>0.500013</td>\n",
              "      <td>0.368612</td>\n",
              "      <td>0.499748</td>\n",
              "      <td>0.458110</td>\n",
              "      <td>24.559481</td>\n",
              "      <td>0.295752</td>\n",
              "      <td>0.948554</td>\n",
              "      <td>0.737796</td>\n",
              "      <td>0.859848</td>\n",
              "      <td>0.880162</td>\n",
              "      <td>0.879949</td>\n",
              "      <td>0.861551</td>\n",
              "      <td>0.885002</td>\n",
              "      <td>0.885091</td>\n",
              "      <td>0.833755</td>\n",
              "      <td>0.491457</td>\n",
              "      <td>1.068104</td>\n",
              "      <td>30.090047</td>\n",
              "      <td>2265.000258</td>\n",
              "      <td>0.441561</td>\n",
              "    </tr>\n",
              "    <tr>\n",
              "      <th>min</th>\n",
              "      <td>0.000000</td>\n",
              "      <td>0.000000</td>\n",
              "      <td>0.000000</td>\n",
              "      <td>0.000000</td>\n",
              "      <td>0.000000</td>\n",
              "      <td>0.000000</td>\n",
              "      <td>0.000000</td>\n",
              "      <td>0.000000</td>\n",
              "      <td>0.000000</td>\n",
              "      <td>0.000000</td>\n",
              "      <td>0.000000</td>\n",
              "      <td>0.000000</td>\n",
              "      <td>0.000000</td>\n",
              "      <td>0.000000</td>\n",
              "      <td>0.000000</td>\n",
              "      <td>0.000000</td>\n",
              "      <td>0.000000</td>\n",
              "      <td>18.250000</td>\n",
              "      <td>18.800000</td>\n",
              "      <td>0.000000</td>\n",
              "    </tr>\n",
              "    <tr>\n",
              "      <th>25%</th>\n",
              "      <td>0.000000</td>\n",
              "      <td>0.000000</td>\n",
              "      <td>0.000000</td>\n",
              "      <td>0.000000</td>\n",
              "      <td>9.000000</td>\n",
              "      <td>1.000000</td>\n",
              "      <td>0.000000</td>\n",
              "      <td>0.000000</td>\n",
              "      <td>0.000000</td>\n",
              "      <td>0.000000</td>\n",
              "      <td>0.000000</td>\n",
              "      <td>0.000000</td>\n",
              "      <td>0.000000</td>\n",
              "      <td>0.000000</td>\n",
              "      <td>0.000000</td>\n",
              "      <td>0.000000</td>\n",
              "      <td>1.000000</td>\n",
              "      <td>35.500000</td>\n",
              "      <td>402.225000</td>\n",
              "      <td>0.000000</td>\n",
              "    </tr>\n",
              "    <tr>\n",
              "      <th>50%</th>\n",
              "      <td>1.000000</td>\n",
              "      <td>0.000000</td>\n",
              "      <td>0.000000</td>\n",
              "      <td>0.000000</td>\n",
              "      <td>29.000000</td>\n",
              "      <td>1.000000</td>\n",
              "      <td>1.000000</td>\n",
              "      <td>1.000000</td>\n",
              "      <td>1.000000</td>\n",
              "      <td>1.000000</td>\n",
              "      <td>1.000000</td>\n",
              "      <td>1.000000</td>\n",
              "      <td>1.000000</td>\n",
              "      <td>1.000000</td>\n",
              "      <td>0.000000</td>\n",
              "      <td>1.000000</td>\n",
              "      <td>2.000000</td>\n",
              "      <td>70.350000</td>\n",
              "      <td>1400.550000</td>\n",
              "      <td>0.000000</td>\n",
              "    </tr>\n",
              "    <tr>\n",
              "      <th>75%</th>\n",
              "      <td>1.000000</td>\n",
              "      <td>0.000000</td>\n",
              "      <td>1.000000</td>\n",
              "      <td>1.000000</td>\n",
              "      <td>55.000000</td>\n",
              "      <td>1.000000</td>\n",
              "      <td>2.000000</td>\n",
              "      <td>1.000000</td>\n",
              "      <td>2.000000</td>\n",
              "      <td>2.000000</td>\n",
              "      <td>2.000000</td>\n",
              "      <td>2.000000</td>\n",
              "      <td>2.000000</td>\n",
              "      <td>2.000000</td>\n",
              "      <td>1.000000</td>\n",
              "      <td>1.000000</td>\n",
              "      <td>2.000000</td>\n",
              "      <td>89.850000</td>\n",
              "      <td>3786.600000</td>\n",
              "      <td>1.000000</td>\n",
              "    </tr>\n",
              "    <tr>\n",
              "      <th>max</th>\n",
              "      <td>1.000000</td>\n",
              "      <td>1.000000</td>\n",
              "      <td>1.000000</td>\n",
              "      <td>1.000000</td>\n",
              "      <td>72.000000</td>\n",
              "      <td>1.000000</td>\n",
              "      <td>2.000000</td>\n",
              "      <td>2.000000</td>\n",
              "      <td>2.000000</td>\n",
              "      <td>2.000000</td>\n",
              "      <td>2.000000</td>\n",
              "      <td>2.000000</td>\n",
              "      <td>2.000000</td>\n",
              "      <td>2.000000</td>\n",
              "      <td>2.000000</td>\n",
              "      <td>1.000000</td>\n",
              "      <td>3.000000</td>\n",
              "      <td>118.750000</td>\n",
              "      <td>8684.800000</td>\n",
              "      <td>1.000000</td>\n",
              "    </tr>\n",
              "  </tbody>\n",
              "</table>\n",
              "</div>\n",
              "      <button class=\"colab-df-convert\" onclick=\"convertToInteractive('df-517690b9-c090-44e5-bd96-d3fceb1151b3')\"\n",
              "              title=\"Convert this dataframe to an interactive table.\"\n",
              "              style=\"display:none;\">\n",
              "        \n",
              "  <svg xmlns=\"http://www.w3.org/2000/svg\" height=\"24px\"viewBox=\"0 0 24 24\"\n",
              "       width=\"24px\">\n",
              "    <path d=\"M0 0h24v24H0V0z\" fill=\"none\"/>\n",
              "    <path d=\"M18.56 5.44l.94 2.06.94-2.06 2.06-.94-2.06-.94-.94-2.06-.94 2.06-2.06.94zm-11 1L8.5 8.5l.94-2.06 2.06-.94-2.06-.94L8.5 2.5l-.94 2.06-2.06.94zm10 10l.94 2.06.94-2.06 2.06-.94-2.06-.94-.94-2.06-.94 2.06-2.06.94z\"/><path d=\"M17.41 7.96l-1.37-1.37c-.4-.4-.92-.59-1.43-.59-.52 0-1.04.2-1.43.59L10.3 9.45l-7.72 7.72c-.78.78-.78 2.05 0 2.83L4 21.41c.39.39.9.59 1.41.59.51 0 1.02-.2 1.41-.59l7.78-7.78 2.81-2.81c.8-.78.8-2.07 0-2.86zM5.41 20L4 18.59l7.72-7.72 1.47 1.35L5.41 20z\"/>\n",
              "  </svg>\n",
              "      </button>\n",
              "      \n",
              "  <style>\n",
              "    .colab-df-container {\n",
              "      display:flex;\n",
              "      flex-wrap:wrap;\n",
              "      gap: 12px;\n",
              "    }\n",
              "\n",
              "    .colab-df-convert {\n",
              "      background-color: #E8F0FE;\n",
              "      border: none;\n",
              "      border-radius: 50%;\n",
              "      cursor: pointer;\n",
              "      display: none;\n",
              "      fill: #1967D2;\n",
              "      height: 32px;\n",
              "      padding: 0 0 0 0;\n",
              "      width: 32px;\n",
              "    }\n",
              "\n",
              "    .colab-df-convert:hover {\n",
              "      background-color: #E2EBFA;\n",
              "      box-shadow: 0px 1px 2px rgba(60, 64, 67, 0.3), 0px 1px 3px 1px rgba(60, 64, 67, 0.15);\n",
              "      fill: #174EA6;\n",
              "    }\n",
              "\n",
              "    [theme=dark] .colab-df-convert {\n",
              "      background-color: #3B4455;\n",
              "      fill: #D2E3FC;\n",
              "    }\n",
              "\n",
              "    [theme=dark] .colab-df-convert:hover {\n",
              "      background-color: #434B5C;\n",
              "      box-shadow: 0px 1px 3px 1px rgba(0, 0, 0, 0.15);\n",
              "      filter: drop-shadow(0px 1px 2px rgba(0, 0, 0, 0.3));\n",
              "      fill: #FFFFFF;\n",
              "    }\n",
              "  </style>\n",
              "\n",
              "      <script>\n",
              "        const buttonEl =\n",
              "          document.querySelector('#df-517690b9-c090-44e5-bd96-d3fceb1151b3 button.colab-df-convert');\n",
              "        buttonEl.style.display =\n",
              "          google.colab.kernel.accessAllowed ? 'block' : 'none';\n",
              "\n",
              "        async function convertToInteractive(key) {\n",
              "          const element = document.querySelector('#df-517690b9-c090-44e5-bd96-d3fceb1151b3');\n",
              "          const dataTable =\n",
              "            await google.colab.kernel.invokeFunction('convertToInteractive',\n",
              "                                                     [key], {});\n",
              "          if (!dataTable) return;\n",
              "\n",
              "          const docLinkHtml = 'Like what you see? Visit the ' +\n",
              "            '<a target=\"_blank\" href=https://colab.research.google.com/notebooks/data_table.ipynb>data table notebook</a>'\n",
              "            + ' to learn more about interactive tables.';\n",
              "          element.innerHTML = '';\n",
              "          dataTable['output_type'] = 'display_data';\n",
              "          await google.colab.output.renderOutput(dataTable, element);\n",
              "          const docLink = document.createElement('div');\n",
              "          docLink.innerHTML = docLinkHtml;\n",
              "          element.appendChild(docLink);\n",
              "        }\n",
              "      </script>\n",
              "    </div>\n",
              "  </div>\n",
              "  "
            ]
          },
          "metadata": {},
          "execution_count": 21
        }
      ]
    },
    {
      "cell_type": "code",
      "source": [
        "plt.figure(figsize=(12,5))\n",
        "plt.subplot(1,2,1)\n",
        "sns.distplot(data[\"tenure\"])\n",
        "plt.subplot(1,2,2)\n",
        "sns.distplot(data[\"MonthlyCharges\"])"
      ],
      "metadata": {
        "colab": {
          "base_uri": "https://localhost:8080/",
          "height": 864
        },
        "id": "uJDr8t-D_f3k",
        "outputId": "67949ac7-464f-4610-8ae1-20fbe86ea5a8"
      },
      "execution_count": 22,
      "outputs": [
        {
          "output_type": "stream",
          "name": "stderr",
          "text": [
            "<ipython-input-22-3bd718de5fe4>:3: UserWarning: \n",
            "\n",
            "`distplot` is a deprecated function and will be removed in seaborn v0.14.0.\n",
            "\n",
            "Please adapt your code to use either `displot` (a figure-level function with\n",
            "similar flexibility) or `histplot` (an axes-level function for histograms).\n",
            "\n",
            "For a guide to updating your code to use the new functions, please see\n",
            "https://gist.github.com/mwaskom/de44147ed2974457ad6372750bbe5751\n",
            "\n",
            "  sns.distplot(data[\"tenure\"])\n",
            "<ipython-input-22-3bd718de5fe4>:5: UserWarning: \n",
            "\n",
            "`distplot` is a deprecated function and will be removed in seaborn v0.14.0.\n",
            "\n",
            "Please adapt your code to use either `displot` (a figure-level function with\n",
            "similar flexibility) or `histplot` (an axes-level function for histograms).\n",
            "\n",
            "For a guide to updating your code to use the new functions, please see\n",
            "https://gist.github.com/mwaskom/de44147ed2974457ad6372750bbe5751\n",
            "\n",
            "  sns.distplot(data[\"MonthlyCharges\"])\n"
          ]
        },
        {
          "output_type": "execute_result",
          "data": {
            "text/plain": [
              "<Axes: xlabel='MonthlyCharges', ylabel='Density'>"
            ]
          },
          "metadata": {},
          "execution_count": 22
        },
        {
          "output_type": "display_data",
          "data": {
            "text/plain": [
              "<Figure size 1200x500 with 2 Axes>"
            ],
            "image/png": "[encoded data removed]"
          },
          "metadata": {}
        }
      ]
    },
    {
      "cell_type": "code",
      "source": [
        "plt.figure(figsize=(12,5))\n",
        "plt.subplot(1,2,1)\n",
        "sns.countplot(data[\"gender\"])\n",
        "plt.subplot(1,2,2)\n",
        "sns.countplot(data[\"Dependents\"])"
      ],
      "metadata": {
        "colab": {
          "base_uri": "https://localhost:8080/",
          "height": 462
        },
        "id": "MFMBgBH3CdGl",
        "outputId": "a9f6d0ca-74fc-4ffa-944d-ed1bc3997214"
      },
      "execution_count": 23,
      "outputs": [
        {
          "output_type": "execute_result",
          "data": {
            "text/plain": [
              "<Axes: ylabel='count'>"
            ]
          },
          "metadata": {},
          "execution_count": 23
        },
        {
          "output_type": "display_data",
          "data": {
            "text/plain": [
              "<Figure size 1200x500 with 2 Axes>"
            ],
            "image/png": "[encoded data removed]"
          },
          "metadata": {}
        }
      ]
    },
    {
      "cell_type": "code",
      "source": [
        "sns.barplot(x=\"Churn\",y=\"MonthlyCharges\",data=data)"
      ],
      "metadata": {
        "colab": {
          "base_uri": "https://localhost:8080/",
          "height": 466
        },
        "id": "_xk4Fry2Dmo8",
        "outputId": "92f2caee-cbe2-418b-fb01-757b2464c8a2"
      },
      "execution_count": 24,
      "outputs": [
        {
          "output_type": "execute_result",
          "data": {
            "text/plain": [
              "<Axes: xlabel='Churn', ylabel='MonthlyCharges'>"
            ]
          },
          "metadata": {},
          "execution_count": 24
        },
        {
          "output_type": "display_data",
          "data": {
            "text/plain": [
              "<Figure size 640x480 with 1 Axes>"
            ],
            "image/png": "[encoded data removed]"
          },
          "metadata": {}
        }
      ]
    },
    {
      "cell_type": "code",
      "source": [
        "sns.heatmap(df.corr(),annot=True)"
      ],
      "metadata": {
        "colab": {
          "base_uri": "https://localhost:8080/",
          "height": 452
        },
        "id": "DP8Slh6ZD-fM",
        "outputId": "87c5731c-f905-4711-a3ba-b9ee3b9d2752"
      },
      "execution_count": 25,
      "outputs": [
        {
          "output_type": "execute_result",
          "data": {
            "text/plain": [
              "<Axes: >"
            ]
          },
          "metadata": {},
          "execution_count": 25
        },
        {
          "output_type": "display_data",
          "data": {
            "text/plain": [
              "<Figure size 640x480 with 2 Axes>"
            ],
            "image/png": "[encoded data removed]"
          },
          "metadata": {}
        }
      ]
    },
    {
      "cell_type": "code",
      "source": [
        "sns.pairplot(data=df,markers=[\"^\",\"v\"],palette=\"inferno\")"
      ],
      "metadata": {
        "colab": {
          "base_uri": "https://localhost:8080/",
          "height": 1000
        },
        "id": "SOFnIxiCERCR",
        "outputId": "8304a14f-65f0-43a6-acd7-b020758ea5e9"
      },
      "execution_count": 26,
      "outputs": [
        {
          "output_type": "stream",
          "name": "stderr",
          "text": [
            "/usr/local/lib/python3.9/dist-packages/seaborn/axisgrid.py:1507: UserWarning: Ignoring `palette` because no `hue` variable has been assigned.\n",
            "  func(x=vector, **plot_kwargs)\n",
            "/usr/local/lib/python3.9/dist-packages/seaborn/axisgrid.py:1507: UserWarning: Ignoring `palette` because no `hue` variable has been assigned.\n",
            "  func(x=vector, **plot_kwargs)\n",
            "/usr/local/lib/python3.9/dist-packages/seaborn/axisgrid.py:1507: UserWarning: Ignoring `palette` because no `hue` variable has been assigned.\n",
            "  func(x=vector, **plot_kwargs)\n",
            "/usr/local/lib/python3.9/dist-packages/seaborn/axisgrid.py:1609: UserWarning: Ignoring `palette` because no `hue` variable has been assigned.\n",
            "  func(x=x, y=y, **kwargs)\n",
            "/usr/local/lib/python3.9/dist-packages/seaborn/axisgrid.py:1609: UserWarning: Ignoring `palette` because no `hue` variable has been assigned.\n",
            "  func(x=x, y=y, **kwargs)\n",
            "/usr/local/lib/python3.9/dist-packages/seaborn/axisgrid.py:1609: UserWarning: Ignoring `palette` because no `hue` variable has been assigned.\n",
            "  func(x=x, y=y, **kwargs)\n",
            "/usr/local/lib/python3.9/dist-packages/seaborn/axisgrid.py:1609: UserWarning: Ignoring `palette` because no `hue` variable has been assigned.\n",
            "  func(x=x, y=y, **kwargs)\n",
            "/usr/local/lib/python3.9/dist-packages/seaborn/axisgrid.py:1609: UserWarning: Ignoring `palette` because no `hue` variable has been assigned.\n",
            "  func(x=x, y=y, **kwargs)\n",
            "/usr/local/lib/python3.9/dist-packages/seaborn/axisgrid.py:1609: UserWarning: Ignoring `palette` because no `hue` variable has been assigned.\n",
            "  func(x=x, y=y, **kwargs)\n"
          ]
        },
        {
          "output_type": "execute_result",
          "data": {
            "text/plain": [
              "<seaborn.axisgrid.PairGrid at 0x7fcc01cad640>"
            ]
          },
          "metadata": {},
          "execution_count": 26
        },
        {
          "output_type": "display_data",
          "data": {
            "text/plain": [
              "<Figure size 750x750 with 12 Axes>"
            ],
            "image/png": "[encoded data removed]"
          },
          "metadata": {}
        }
      ]
    },
    {
      "cell_type": "code",
      "source": [
        "from sklearn.model_selection import train_test_split\n",
        "x_train,x_test,y_train,y_test=train_test_split(x_resampled,y_resampled,test_size=0.2,random_state=0)"
      ],
      "metadata": {
        "id": "5gmqK2CNdFLS"
      },
      "execution_count": 27,
      "outputs": []
    },
    {
      "cell_type": "code",
      "source": [
        "from sklearn.preprocessing import StandardScaler\n",
        "sc=StandardScaler()\n",
        "x_train=sc.fit_transform(x_train)\n",
        "x_test=sc.fit_transform(x_test)\n",
        "x_train.shape"
      ],
      "metadata": {
        "colab": {
          "base_uri": "https://localhost:8080/"
        },
        "id": "NbI1AbzFdtl7",
        "outputId": "29145dbf-9549-429b-c4b2-43264671195c"
      },
      "execution_count": 28,
      "outputs": [
        {
          "output_type": "execute_result",
          "data": {
            "text/plain": [
              "(8278, 40)"
            ]
          },
          "metadata": {},
          "execution_count": 28
        }
      ]
    },
    {
      "cell_type": "code",
      "source": [
        "def logreg(x_train,x_test,y_train,y_test):\n",
        "  lr=LogisticRegression(random_state=0)\n",
        "  lr.fit(x_train,y_train)\n",
        "  ylt=lr.predict(x_train)\n",
        "  print(\"Accuracy Score :\",accuracy_score(ylt,y_train))\n",
        "  yPred_lr=lr.predict(x_test)\n",
        "  print(\"Accuracy Test :\",accuracy_score(yPred_lr,y_test))\n",
        "  print(\"Logistic Regression\")\n",
        "  print(\"Confusion Matrix\")\n",
        "  print(confusion_matrix(y_test, yPred_lr))\n",
        "  print(\"Classification Reprot\")\n",
        "  print(classification_report(y_test, yPred_lr))\n",
        "\n",
        "logreg(x_train,x_test,y_train,y_test)"
      ],
      "metadata": {
        "colab": {
          "base_uri": "https://localhost:8080/"
        },
        "id": "AOmZYLhMgzPf",
        "outputId": "355a91ac-3b3a-4a78-8246-deaed977f422"
      },
      "execution_count": 29,
      "outputs": [
        {
          "output_type": "stream",
          "name": "stdout",
          "text": [
            "Accuracy Score : 0.7726503986470162\n",
            "Accuracy Test : 0.7801932367149759\n",
            "Logistic Regression\n",
            "Confusion Matrix\n",
            "[[762 271]\n",
            " [184 853]]\n",
            "Classification Reprot\n",
            "              precision    recall  f1-score   support\n",
            "\n",
            "           0       0.81      0.74      0.77      1033\n",
            "           1       0.76      0.82      0.79      1037\n",
            "\n",
            "    accuracy                           0.78      2070\n",
            "   macro avg       0.78      0.78      0.78      2070\n",
            "weighted avg       0.78      0.78      0.78      2070\n",
            "\n"
          ]
        }
      ]
    },
    {
      "cell_type": "code",
      "source": [
        "def dTree(x_train,x_test,y_train,y_test):\n",
        "  dtc=DecisionTreeClassifier(criterion=\"entropy\",random_state=0)\n",
        "  dtc.fit(x_train,y_train)\n",
        "  y_dt_tr=dtc.predict(x_train)\n",
        "  print(\"Accuracy Score :\",accuracy_score(y_dt_tr,y_train))\n",
        "  yPred_dt=dtc.predict(x_test)\n",
        "  print(\"Accuracy Test :\",accuracy_score(yPred_dt,y_test))\n",
        "  print(\"Decsion Tree\")\n",
        "  print(\"Confusion Matrix\")\n",
        "  print(confusion_matrix(y_test, yPred_dt))\n",
        "  print(\"Classification Reprot\")\n",
        "  print(classification_report(y_test, yPred_dt))\n",
        "\n",
        "dTree(x_train,x_test,y_train,y_test)"
      ],
      "metadata": {
        "colab": {
          "base_uri": "https://localhost:8080/"
        },
        "id": "Aygl9qsZyWNH",
        "outputId": "56dd329f-9ec6-4b5a-ce4c-053923631822"
      },
      "execution_count": 30,
      "outputs": [
        {
          "output_type": "stream",
          "name": "stdout",
          "text": [
            "Accuracy Score : 0.9981879681082387\n",
            "Accuracy Test : 0.7888888888888889\n",
            "Decsion Tree\n",
            "Confusion Matrix\n",
            "[[685 348]\n",
            " [ 89 948]]\n",
            "Classification Reprot\n",
            "              precision    recall  f1-score   support\n",
            "\n",
            "           0       0.89      0.66      0.76      1033\n",
            "           1       0.73      0.91      0.81      1037\n",
            "\n",
            "    accuracy                           0.79      2070\n",
            "   macro avg       0.81      0.79      0.79      2070\n",
            "weighted avg       0.81      0.79      0.79      2070\n",
            "\n"
          ]
        }
      ]
    },
    {
      "cell_type": "code",
      "source": [
        "def RandomForest(x_train,x_test,y_train,y_test):\n",
        "  rf=RandomForestClassifier(criterion=\"entropy\",n_estimators=10,random_state=0)\n",
        "  rf.fit(x_train,y_train)\n",
        "  y_rf_tr=rf.predict(x_train)\n",
        "  print(\"Accuracy Score :\",accuracy_score(y_rf_tr,y_train))\n",
        "  yPred_rf=rf.predict(x_test)\n",
        "  print(\"Accuracy Test :\",accuracy_score(yPred_rf,y_test))\n",
        "  print(\"Random Forest\")\n",
        "  print(\"Confusion Matrix\")\n",
        "  print(confusion_matrix(y_test, yPred_rf))\n",
        "  print(\"Classification Reprot\")\n",
        "  print(classification_report(y_test, yPred_rf))\n",
        "\n",
        "RandomForest(x_train,x_test,y_train,y_test)"
      ],
      "metadata": {
        "colab": {
          "base_uri": "https://localhost:8080/"
        },
        "id": "aKvoajKAzLqv",
        "outputId": "028d3ff0-3bda-42d2-fc47-4f9f5b64b9b5"
      },
      "execution_count": 31,
      "outputs": [
        {
          "output_type": "stream",
          "name": "stdout",
          "text": [
            "Accuracy Score : 0.9890070065233149\n",
            "Accuracy Test : 0.7922705314009661\n",
            "Random Forest\n",
            "Confusion Matrix\n",
            "[[701 332]\n",
            " [ 98 939]]\n",
            "Classification Reprot\n",
            "              precision    recall  f1-score   support\n",
            "\n",
            "           0       0.88      0.68      0.77      1033\n",
            "           1       0.74      0.91      0.81      1037\n",
            "\n",
            "    accuracy                           0.79      2070\n",
            "   macro avg       0.81      0.79      0.79      2070\n",
            "weighted avg       0.81      0.79      0.79      2070\n",
            "\n"
          ]
        }
      ]
    },
    {
      "cell_type": "code",
      "source": [
        "def KNN(x_train,x_test,y_train,y_test):\n",
        "  knn=KNeighborsClassifier()\n",
        "  knn.fit(x_train,y_train)\n",
        "  y_knn_tr=knn.predict(x_train)\n",
        "  print(\"Accuracy Score :\",accuracy_score(y_knn_tr,y_train))\n",
        "  yPred_knn=knn.predict(x_test)\n",
        "  print(\"Accuracy Test :\",accuracy_score(yPred_knn,y_test))\n",
        "  print(\"KNN\")\n",
        "  print(\"Confusion Matrix\")\n",
        "  print(confusion_matrix(y_test, yPred_knn))\n",
        "  print(\"Classification Reprot\")\n",
        "  print(classification_report(y_test, yPred_knn))\n",
        "\n",
        "KNN(x_train,x_test,y_train,y_test)"
      ],
      "metadata": {
        "colab": {
          "base_uri": "https://localhost:8080/"
        },
        "id": "doFpAHp5z7zq",
        "outputId": "c1ad5e5c-9d25-4482-a46d-f56134cbd7c5"
      },
      "execution_count": 32,
      "outputs": [
        {
          "output_type": "stream",
          "name": "stdout",
          "text": [
            "Accuracy Score : 0.851171780623339\n",
            "Accuracy Test : 0.7956521739130434\n",
            "KNN\n",
            "Confusion Matrix\n",
            "[[720 313]\n",
            " [110 927]]\n",
            "Classification Reprot\n",
            "              precision    recall  f1-score   support\n",
            "\n",
            "           0       0.87      0.70      0.77      1033\n",
            "           1       0.75      0.89      0.81      1037\n",
            "\n",
            "    accuracy                           0.80      2070\n",
            "   macro avg       0.81      0.80      0.79      2070\n",
            "weighted avg       0.81      0.80      0.79      2070\n",
            "\n"
          ]
        }
      ]
    },
    {
      "cell_type": "code",
      "source": [
        "def SVM(x_train,x_test,y_train,y_test):\n",
        "  svm=KNeighborsClassifier()\n",
        "  svm.fit(x_train,y_train)\n",
        "  y_svm_tr=svm.predict(x_train)\n",
        "  print(\"Accuracy Score :\",accuracy_score(y_svm_tr,y_train))\n",
        "  yPred_svm=svm.predict(x_test)\n",
        "  print(\"Accuracy Test :\",accuracy_score(yPred_svm,y_test))\n",
        "  print(\"SVM\")\n",
        "  print(\"Confusion Matrix\")\n",
        "  print(confusion_matrix(y_test, yPred_svm))\n",
        "  print(\"Classification Reprot\")\n",
        "  print(classification_report(y_test, yPred_svm))\n",
        "\n",
        "SVM(x_train,x_test,y_train,y_test)"
      ],
      "metadata": {
        "colab": {
          "base_uri": "https://localhost:8080/"
        },
        "id": "Of76GheW0ow6",
        "outputId": "56ea2d7f-7b67-4544-9d58-7f36296b5c6a"
      },
      "execution_count": 33,
      "outputs": [
        {
          "output_type": "stream",
          "name": "stdout",
          "text": [
            "Accuracy Score : 0.851171780623339\n",
            "Accuracy Test : 0.7956521739130434\n",
            "SVM\n",
            "Confusion Matrix\n",
            "[[720 313]\n",
            " [110 927]]\n",
            "Classification Reprot\n",
            "              precision    recall  f1-score   support\n",
            "\n",
            "           0       0.87      0.70      0.77      1033\n",
            "           1       0.75      0.89      0.81      1037\n",
            "\n",
            "    accuracy                           0.80      2070\n",
            "   macro avg       0.81      0.80      0.79      2070\n",
            "weighted avg       0.81      0.80      0.79      2070\n",
            "\n"
          ]
        }
      ]
    },
    {
      "cell_type": "code",
      "source": [
        "import keras\n",
        "from keras.models import Sequential\n",
        "from keras.layers import Dense\n",
        "classifier=Sequential()\n",
        "classifier.add(Dense(units=30, activation=\"relu\",input_dim=40))\n",
        "classifier.add(Dense(units=30, activation=\"relu\"))\n",
        "classifier.add(Dense(units=1, activation=\"sigmoid\"))\n",
        "classifier.compile(optimizer=\"adam\",loss=\"binary_crossentropy\",metrics=['accuracy'])"
      ],
      "metadata": {
        "id": "PVR1QKlU19Jq"
      },
      "execution_count": 34,
      "outputs": []
    },
    {
      "cell_type": "code",
      "source": [],
      "metadata": {
        "id": "EOvdD8tECoPT"
      },
      "execution_count": null,
      "outputs": []
    },
    {
      "cell_type": "code",
      "source": [
        "model_histroty=classifier.fit(x_train,y_train, batch_size=10, validation_split=0.33,epochs=200)"
      ],
      "metadata": {
        "colab": {
          "base_uri": "https://localhost:8080/"
        },
        "id": "D1iBh5Mr2OfB",
        "outputId": "fb640b98-76f5-433f-cc18-556213d3599f"
      },
      "execution_count": 35,
      "outputs": [
        {
          "output_type": "stream",
          "name": "stdout",
          "text": [
            "Epoch 1/200\n",
            "555/555 [==============================] - 3s 3ms/step - loss: 0.5095 - accuracy: 0.7413 - val_loss: 0.4750 - val_accuracy: 0.7687\n",
            "Epoch 2/200\n",
            "555/555 [==============================] - 2s 3ms/step - loss: 0.4637 - accuracy: 0.7773 - val_loss: 0.4680 - val_accuracy: 0.7731\n",
            "Epoch 3/200\n",
            "555/555 [==============================] - 2s 3ms/step - loss: 0.4493 - accuracy: 0.7908 - val_loss: 0.4627 - val_accuracy: 0.7723\n",
            "Epoch 4/200\n",
            "555/555 [==============================] - 1s 3ms/step - loss: 0.4365 - accuracy: 0.7981 - val_loss: 0.4537 - val_accuracy: 0.7782\n",
            "Epoch 5/200\n",
            "555/555 [==============================] - 2s 3ms/step - loss: 0.4248 - accuracy: 0.8035 - val_loss: 0.4470 - val_accuracy: 0.7796\n",
            "Epoch 6/200\n",
            "555/555 [==============================] - 2s 3ms/step - loss: 0.4170 - accuracy: 0.8103 - val_loss: 0.4580 - val_accuracy: 0.7840\n",
            "Epoch 7/200\n",
            "555/555 [==============================] - 1s 2ms/step - loss: 0.4063 - accuracy: 0.8152 - val_loss: 0.4507 - val_accuracy: 0.7778\n",
            "Epoch 8/200\n",
            "555/555 [==============================] - 2s 3ms/step - loss: 0.3970 - accuracy: 0.8190 - val_loss: 0.4605 - val_accuracy: 0.7796\n",
            "Epoch 9/200\n",
            "555/555 [==============================] - 2s 3ms/step - loss: 0.3912 - accuracy: 0.8238 - val_loss: 0.4395 - val_accuracy: 0.7925\n",
            "Epoch 10/200\n",
            "555/555 [==============================] - 2s 4ms/step - loss: 0.3813 - accuracy: 0.8298 - val_loss: 0.4345 - val_accuracy: 0.7939\n",
            "Epoch 11/200\n",
            "555/555 [==============================] - 2s 3ms/step - loss: 0.3773 - accuracy: 0.8329 - val_loss: 0.4342 - val_accuracy: 0.7961\n",
            "Epoch 12/200\n",
            "555/555 [==============================] - 2s 3ms/step - loss: 0.3715 - accuracy: 0.8336 - val_loss: 0.4352 - val_accuracy: 0.8020\n",
            "Epoch 13/200\n",
            "555/555 [==============================] - 2s 3ms/step - loss: 0.3621 - accuracy: 0.8375 - val_loss: 0.4271 - val_accuracy: 0.8031\n",
            "Epoch 14/200\n",
            "555/555 [==============================] - 1s 2ms/step - loss: 0.3583 - accuracy: 0.8390 - val_loss: 0.4306 - val_accuracy: 0.7990\n",
            "Epoch 15/200\n",
            "555/555 [==============================] - 1s 2ms/step - loss: 0.3517 - accuracy: 0.8404 - val_loss: 0.4386 - val_accuracy: 0.8005\n",
            "Epoch 16/200\n",
            "555/555 [==============================] - 1s 2ms/step - loss: 0.3476 - accuracy: 0.8460 - val_loss: 0.4380 - val_accuracy: 0.8038\n",
            "Epoch 17/200\n",
            "555/555 [==============================] - 2s 3ms/step - loss: 0.3412 - accuracy: 0.8489 - val_loss: 0.4250 - val_accuracy: 0.8067\n",
            "Epoch 18/200\n",
            "555/555 [==============================] - 2s 4ms/step - loss: 0.3364 - accuracy: 0.8507 - val_loss: 0.4340 - val_accuracy: 0.8097\n",
            "Epoch 19/200\n",
            "555/555 [==============================] - 2s 3ms/step - loss: 0.3318 - accuracy: 0.8502 - val_loss: 0.4359 - val_accuracy: 0.7932\n",
            "Epoch 20/200\n",
            "555/555 [==============================] - 1s 2ms/step - loss: 0.3295 - accuracy: 0.8541 - val_loss: 0.4287 - val_accuracy: 0.8005\n",
            "Epoch 21/200\n",
            "555/555 [==============================] - 1s 2ms/step - loss: 0.3261 - accuracy: 0.8556 - val_loss: 0.4440 - val_accuracy: 0.7943\n",
            "Epoch 22/200\n",
            "555/555 [==============================] - 2s 3ms/step - loss: 0.3200 - accuracy: 0.8585 - val_loss: 0.4282 - val_accuracy: 0.8067\n",
            "Epoch 23/200\n",
            "555/555 [==============================] - 1s 2ms/step - loss: 0.3189 - accuracy: 0.8577 - val_loss: 0.4323 - val_accuracy: 0.8042\n",
            "Epoch 24/200\n",
            "555/555 [==============================] - 2s 3ms/step - loss: 0.3138 - accuracy: 0.8608 - val_loss: 0.4284 - val_accuracy: 0.8056\n",
            "Epoch 25/200\n",
            "555/555 [==============================] - 2s 3ms/step - loss: 0.3063 - accuracy: 0.8646 - val_loss: 0.4564 - val_accuracy: 0.7950\n",
            "Epoch 26/200\n",
            "555/555 [==============================] - 3s 6ms/step - loss: 0.3080 - accuracy: 0.8657 - val_loss: 0.4347 - val_accuracy: 0.8089\n",
            "Epoch 27/200\n",
            "555/555 [==============================] - 2s 3ms/step - loss: 0.3006 - accuracy: 0.8687 - val_loss: 0.4352 - val_accuracy: 0.8078\n",
            "Epoch 28/200\n",
            "555/555 [==============================] - 2s 3ms/step - loss: 0.3016 - accuracy: 0.8677 - val_loss: 0.4310 - val_accuracy: 0.8133\n",
            "Epoch 29/200\n",
            "555/555 [==============================] - 2s 3ms/step - loss: 0.2982 - accuracy: 0.8678 - val_loss: 0.4464 - val_accuracy: 0.8075\n",
            "Epoch 30/200\n",
            "555/555 [==============================] - 1s 2ms/step - loss: 0.2946 - accuracy: 0.8684 - val_loss: 0.4324 - val_accuracy: 0.8097\n",
            "Epoch 31/200\n",
            "555/555 [==============================] - 1s 2ms/step - loss: 0.2923 - accuracy: 0.8696 - val_loss: 0.4489 - val_accuracy: 0.7990\n",
            "Epoch 32/200\n",
            "555/555 [==============================] - 2s 3ms/step - loss: 0.2903 - accuracy: 0.8738 - val_loss: 0.4550 - val_accuracy: 0.8130\n",
            "Epoch 33/200\n",
            "555/555 [==============================] - 2s 4ms/step - loss: 0.2855 - accuracy: 0.8749 - val_loss: 0.4459 - val_accuracy: 0.8056\n",
            "Epoch 34/200\n",
            "555/555 [==============================] - 1s 2ms/step - loss: 0.2820 - accuracy: 0.8763 - val_loss: 0.4538 - val_accuracy: 0.8067\n",
            "Epoch 35/200\n",
            "555/555 [==============================] - 2s 3ms/step - loss: 0.2818 - accuracy: 0.8781 - val_loss: 0.4426 - val_accuracy: 0.8130\n",
            "Epoch 36/200\n",
            "555/555 [==============================] - 2s 3ms/step - loss: 0.2742 - accuracy: 0.8839 - val_loss: 0.4671 - val_accuracy: 0.8097\n",
            "Epoch 37/200\n",
            "555/555 [==============================] - 1s 2ms/step - loss: 0.2777 - accuracy: 0.8790 - val_loss: 0.4574 - val_accuracy: 0.8038\n",
            "Epoch 38/200\n",
            "555/555 [==============================] - 2s 3ms/step - loss: 0.2743 - accuracy: 0.8830 - val_loss: 0.4512 - val_accuracy: 0.8115\n",
            "Epoch 39/200\n",
            "555/555 [==============================] - 2s 3ms/step - loss: 0.2730 - accuracy: 0.8803 - val_loss: 0.4609 - val_accuracy: 0.8075\n",
            "Epoch 40/200\n",
            "555/555 [==============================] - 2s 3ms/step - loss: 0.2686 - accuracy: 0.8835 - val_loss: 0.4642 - val_accuracy: 0.8042\n",
            "Epoch 41/200\n",
            "555/555 [==============================] - 2s 3ms/step - loss: 0.2708 - accuracy: 0.8801 - val_loss: 0.4713 - val_accuracy: 0.8097\n",
            "Epoch 42/200\n",
            "555/555 [==============================] - 1s 2ms/step - loss: 0.2671 - accuracy: 0.8808 - val_loss: 0.4553 - val_accuracy: 0.8097\n",
            "Epoch 43/200\n",
            "555/555 [==============================] - 2s 3ms/step - loss: 0.2628 - accuracy: 0.8850 - val_loss: 0.4593 - val_accuracy: 0.8141\n",
            "Epoch 44/200\n",
            "555/555 [==============================] - 1s 2ms/step - loss: 0.2628 - accuracy: 0.8855 - val_loss: 0.4644 - val_accuracy: 0.8060\n",
            "Epoch 45/200\n",
            "555/555 [==============================] - 2s 3ms/step - loss: 0.2614 - accuracy: 0.8821 - val_loss: 0.4808 - val_accuracy: 0.8034\n",
            "Epoch 46/200\n",
            "555/555 [==============================] - 2s 3ms/step - loss: 0.2599 - accuracy: 0.8886 - val_loss: 0.4754 - val_accuracy: 0.8049\n",
            "Epoch 47/200\n",
            "555/555 [==============================] - 2s 3ms/step - loss: 0.2554 - accuracy: 0.8907 - val_loss: 0.4765 - val_accuracy: 0.8016\n",
            "Epoch 48/200\n",
            "555/555 [==============================] - 2s 4ms/step - loss: 0.2566 - accuracy: 0.8907 - val_loss: 0.4727 - val_accuracy: 0.8126\n",
            "Epoch 49/200\n",
            "555/555 [==============================] - 2s 3ms/step - loss: 0.2546 - accuracy: 0.8891 - val_loss: 0.4667 - val_accuracy: 0.8093\n",
            "Epoch 50/200\n",
            "555/555 [==============================] - 1s 2ms/step - loss: 0.2487 - accuracy: 0.8927 - val_loss: 0.4755 - val_accuracy: 0.8100\n",
            "Epoch 51/200\n",
            "555/555 [==============================] - 2s 3ms/step - loss: 0.2497 - accuracy: 0.8900 - val_loss: 0.4763 - val_accuracy: 0.8089\n",
            "Epoch 52/200\n",
            "555/555 [==============================] - 2s 3ms/step - loss: 0.2503 - accuracy: 0.8913 - val_loss: 0.4800 - val_accuracy: 0.8064\n",
            "Epoch 53/200\n",
            "555/555 [==============================] - 2s 3ms/step - loss: 0.2445 - accuracy: 0.8945 - val_loss: 0.4837 - val_accuracy: 0.8108\n",
            "Epoch 54/200\n",
            "555/555 [==============================] - 2s 3ms/step - loss: 0.2470 - accuracy: 0.8911 - val_loss: 0.4900 - val_accuracy: 0.8016\n",
            "Epoch 55/200\n",
            "555/555 [==============================] - 2s 3ms/step - loss: 0.2412 - accuracy: 0.8942 - val_loss: 0.4863 - val_accuracy: 0.8122\n",
            "Epoch 56/200\n",
            "555/555 [==============================] - 2s 3ms/step - loss: 0.2396 - accuracy: 0.8934 - val_loss: 0.4783 - val_accuracy: 0.8108\n",
            "Epoch 57/200\n",
            "555/555 [==============================] - 2s 4ms/step - loss: 0.2414 - accuracy: 0.8943 - val_loss: 0.4942 - val_accuracy: 0.8053\n",
            "Epoch 58/200\n",
            "555/555 [==============================] - 2s 3ms/step - loss: 0.2364 - accuracy: 0.9005 - val_loss: 0.4984 - val_accuracy: 0.8093\n",
            "Epoch 59/200\n",
            "555/555 [==============================] - 1s 2ms/step - loss: 0.2345 - accuracy: 0.8987 - val_loss: 0.4862 - val_accuracy: 0.8126\n",
            "Epoch 60/200\n",
            "555/555 [==============================] - 2s 3ms/step - loss: 0.2358 - accuracy: 0.8979 - val_loss: 0.5016 - val_accuracy: 0.8130\n",
            "Epoch 61/200\n",
            "555/555 [==============================] - 2s 3ms/step - loss: 0.2333 - accuracy: 0.8978 - val_loss: 0.5044 - val_accuracy: 0.8075\n",
            "Epoch 62/200\n",
            "555/555 [==============================] - 1s 2ms/step - loss: 0.2314 - accuracy: 0.9017 - val_loss: 0.5011 - val_accuracy: 0.8111\n",
            "Epoch 63/200\n",
            "555/555 [==============================] - 1s 2ms/step - loss: 0.2263 - accuracy: 0.9043 - val_loss: 0.5192 - val_accuracy: 0.8071\n",
            "Epoch 64/200\n",
            "555/555 [==============================] - 2s 4ms/step - loss: 0.2302 - accuracy: 0.8999 - val_loss: 0.5383 - val_accuracy: 0.8104\n",
            "Epoch 65/200\n",
            "555/555 [==============================] - 2s 3ms/step - loss: 0.2298 - accuracy: 0.9026 - val_loss: 0.4989 - val_accuracy: 0.8184\n",
            "Epoch 66/200\n",
            "555/555 [==============================] - 1s 2ms/step - loss: 0.2253 - accuracy: 0.9025 - val_loss: 0.5251 - val_accuracy: 0.8078\n",
            "Epoch 67/200\n",
            "555/555 [==============================] - 2s 3ms/step - loss: 0.2246 - accuracy: 0.9050 - val_loss: 0.4995 - val_accuracy: 0.8126\n",
            "Epoch 68/200\n",
            "555/555 [==============================] - 2s 3ms/step - loss: 0.2224 - accuracy: 0.9050 - val_loss: 0.5137 - val_accuracy: 0.8082\n",
            "Epoch 69/200\n",
            "555/555 [==============================] - 2s 3ms/step - loss: 0.2238 - accuracy: 0.9046 - val_loss: 0.5138 - val_accuracy: 0.8166\n",
            "Epoch 70/200\n",
            "555/555 [==============================] - 1s 2ms/step - loss: 0.2252 - accuracy: 0.9032 - val_loss: 0.5366 - val_accuracy: 0.8053\n",
            "Epoch 71/200\n",
            "555/555 [==============================] - 2s 3ms/step - loss: 0.2171 - accuracy: 0.9057 - val_loss: 0.5171 - val_accuracy: 0.8086\n",
            "Epoch 72/200\n",
            "555/555 [==============================] - 2s 4ms/step - loss: 0.2187 - accuracy: 0.9073 - val_loss: 0.5212 - val_accuracy: 0.8130\n",
            "Epoch 73/200\n",
            "555/555 [==============================] - 1s 3ms/step - loss: 0.2176 - accuracy: 0.9050 - val_loss: 0.5092 - val_accuracy: 0.8108\n",
            "Epoch 74/200\n",
            "555/555 [==============================] - 2s 3ms/step - loss: 0.2162 - accuracy: 0.9077 - val_loss: 0.5340 - val_accuracy: 0.8119\n",
            "Epoch 75/200\n",
            "555/555 [==============================] - 1s 3ms/step - loss: 0.2148 - accuracy: 0.9073 - val_loss: 0.5290 - val_accuracy: 0.8181\n",
            "Epoch 76/200\n",
            "555/555 [==============================] - 2s 3ms/step - loss: 0.2157 - accuracy: 0.9082 - val_loss: 0.5540 - val_accuracy: 0.8170\n",
            "Epoch 77/200\n",
            "555/555 [==============================] - 1s 3ms/step - loss: 0.2122 - accuracy: 0.9086 - val_loss: 0.5484 - val_accuracy: 0.8159\n",
            "Epoch 78/200\n",
            "555/555 [==============================] - 2s 3ms/step - loss: 0.2129 - accuracy: 0.9053 - val_loss: 0.5298 - val_accuracy: 0.8181\n",
            "Epoch 79/200\n",
            "555/555 [==============================] - 2s 4ms/step - loss: 0.2101 - accuracy: 0.9111 - val_loss: 0.5606 - val_accuracy: 0.8023\n",
            "Epoch 80/200\n",
            "555/555 [==============================] - 2s 3ms/step - loss: 0.2098 - accuracy: 0.9080 - val_loss: 0.5332 - val_accuracy: 0.8137\n",
            "Epoch 81/200\n",
            "555/555 [==============================] - 1s 3ms/step - loss: 0.2071 - accuracy: 0.9095 - val_loss: 0.5367 - val_accuracy: 0.8144\n",
            "Epoch 82/200\n",
            "555/555 [==============================] - 1s 3ms/step - loss: 0.2052 - accuracy: 0.9116 - val_loss: 0.5506 - val_accuracy: 0.8060\n",
            "Epoch 83/200\n",
            "555/555 [==============================] - 2s 3ms/step - loss: 0.2080 - accuracy: 0.9131 - val_loss: 0.5610 - val_accuracy: 0.8089\n",
            "Epoch 84/200\n",
            "555/555 [==============================] - 1s 3ms/step - loss: 0.2013 - accuracy: 0.9171 - val_loss: 0.5618 - val_accuracy: 0.8152\n",
            "Epoch 85/200\n",
            "555/555 [==============================] - 2s 3ms/step - loss: 0.2058 - accuracy: 0.9120 - val_loss: 0.5485 - val_accuracy: 0.8075\n",
            "Epoch 86/200\n",
            "555/555 [==============================] - 2s 3ms/step - loss: 0.2006 - accuracy: 0.9158 - val_loss: 0.5509 - val_accuracy: 0.8104\n",
            "Epoch 87/200\n",
            "555/555 [==============================] - 2s 4ms/step - loss: 0.2048 - accuracy: 0.9109 - val_loss: 0.5444 - val_accuracy: 0.8100\n",
            "Epoch 88/200\n",
            "555/555 [==============================] - 2s 3ms/step - loss: 0.2015 - accuracy: 0.9125 - val_loss: 0.5667 - val_accuracy: 0.8093\n",
            "Epoch 89/200\n",
            "555/555 [==============================] - 2s 3ms/step - loss: 0.2000 - accuracy: 0.9138 - val_loss: 0.5564 - val_accuracy: 0.8126\n",
            "Epoch 90/200\n",
            "555/555 [==============================] - 2s 3ms/step - loss: 0.1995 - accuracy: 0.9127 - val_loss: 0.5624 - val_accuracy: 0.8078\n",
            "Epoch 91/200\n",
            "555/555 [==============================] - 2s 3ms/step - loss: 0.2015 - accuracy: 0.9149 - val_loss: 0.5522 - val_accuracy: 0.8086\n",
            "Epoch 92/200\n",
            "555/555 [==============================] - 2s 3ms/step - loss: 0.1981 - accuracy: 0.9133 - val_loss: 0.5677 - val_accuracy: 0.8155\n",
            "Epoch 93/200\n",
            "555/555 [==============================] - 1s 2ms/step - loss: 0.1937 - accuracy: 0.9156 - val_loss: 0.5779 - val_accuracy: 0.8199\n",
            "Epoch 94/200\n",
            "555/555 [==============================] - 2s 4ms/step - loss: 0.1958 - accuracy: 0.9169 - val_loss: 0.5638 - val_accuracy: 0.8163\n",
            "Epoch 95/200\n",
            "555/555 [==============================] - 2s 4ms/step - loss: 0.1969 - accuracy: 0.9142 - val_loss: 0.5698 - val_accuracy: 0.8130\n",
            "Epoch 96/200\n",
            "555/555 [==============================] - 2s 3ms/step - loss: 0.1943 - accuracy: 0.9185 - val_loss: 0.5827 - val_accuracy: 0.8075\n",
            "Epoch 97/200\n",
            "555/555 [==============================] - 2s 3ms/step - loss: 0.1894 - accuracy: 0.9198 - val_loss: 0.5666 - val_accuracy: 0.8203\n",
            "Epoch 98/200\n",
            "555/555 [==============================] - 2s 3ms/step - loss: 0.1965 - accuracy: 0.9145 - val_loss: 0.6067 - val_accuracy: 0.8130\n",
            "Epoch 99/200\n",
            "555/555 [==============================] - 1s 2ms/step - loss: 0.1903 - accuracy: 0.9160 - val_loss: 0.5810 - val_accuracy: 0.8141\n",
            "Epoch 100/200\n",
            "555/555 [==============================] - 1s 2ms/step - loss: 0.1884 - accuracy: 0.9178 - val_loss: 0.5813 - val_accuracy: 0.8119\n",
            "Epoch 101/200\n",
            "555/555 [==============================] - 2s 3ms/step - loss: 0.1879 - accuracy: 0.9189 - val_loss: 0.5962 - val_accuracy: 0.8089\n",
            "Epoch 102/200\n",
            "555/555 [==============================] - 2s 4ms/step - loss: 0.1885 - accuracy: 0.9205 - val_loss: 0.5958 - val_accuracy: 0.8064\n",
            "Epoch 103/200\n",
            "555/555 [==============================] - 1s 3ms/step - loss: 0.1875 - accuracy: 0.9203 - val_loss: 0.5839 - val_accuracy: 0.8148\n",
            "Epoch 104/200\n",
            "555/555 [==============================] - 2s 3ms/step - loss: 0.1872 - accuracy: 0.9187 - val_loss: 0.6262 - val_accuracy: 0.8056\n",
            "Epoch 105/200\n",
            "555/555 [==============================] - 2s 3ms/step - loss: 0.1873 - accuracy: 0.9181 - val_loss: 0.5946 - val_accuracy: 0.8137\n",
            "Epoch 106/200\n",
            "555/555 [==============================] - 2s 3ms/step - loss: 0.1857 - accuracy: 0.9194 - val_loss: 0.6145 - val_accuracy: 0.8144\n",
            "Epoch 107/200\n",
            "555/555 [==============================] - 2s 3ms/step - loss: 0.1818 - accuracy: 0.9189 - val_loss: 0.6077 - val_accuracy: 0.8144\n",
            "Epoch 108/200\n",
            "555/555 [==============================] - 2s 3ms/step - loss: 0.1834 - accuracy: 0.9230 - val_loss: 0.5964 - val_accuracy: 0.8159\n",
            "Epoch 109/200\n",
            "555/555 [==============================] - 2s 4ms/step - loss: 0.1823 - accuracy: 0.9235 - val_loss: 0.6072 - val_accuracy: 0.8082\n",
            "Epoch 110/200\n",
            "555/555 [==============================] - 2s 4ms/step - loss: 0.1853 - accuracy: 0.9196 - val_loss: 0.6030 - val_accuracy: 0.8155\n",
            "Epoch 111/200\n",
            "555/555 [==============================] - 2s 3ms/step - loss: 0.1815 - accuracy: 0.9185 - val_loss: 0.5956 - val_accuracy: 0.8086\n",
            "Epoch 112/200\n",
            "555/555 [==============================] - 2s 4ms/step - loss: 0.1816 - accuracy: 0.9208 - val_loss: 0.5911 - val_accuracy: 0.8089\n",
            "Epoch 113/200\n",
            "555/555 [==============================] - 2s 3ms/step - loss: 0.1823 - accuracy: 0.9232 - val_loss: 0.6065 - val_accuracy: 0.8159\n",
            "Epoch 114/200\n",
            "555/555 [==============================] - 2s 3ms/step - loss: 0.1833 - accuracy: 0.9172 - val_loss: 0.6369 - val_accuracy: 0.8082\n",
            "Epoch 115/200\n",
            "555/555 [==============================] - 2s 3ms/step - loss: 0.1795 - accuracy: 0.9214 - val_loss: 0.6059 - val_accuracy: 0.8188\n",
            "Epoch 116/200\n",
            "555/555 [==============================] - 2s 4ms/step - loss: 0.1744 - accuracy: 0.9282 - val_loss: 0.6118 - val_accuracy: 0.8177\n",
            "Epoch 117/200\n",
            "555/555 [==============================] - 2s 3ms/step - loss: 0.1817 - accuracy: 0.9223 - val_loss: 0.6024 - val_accuracy: 0.8188\n",
            "Epoch 118/200\n",
            "555/555 [==============================] - 2s 3ms/step - loss: 0.1751 - accuracy: 0.9250 - val_loss: 0.6117 - val_accuracy: 0.8111\n",
            "Epoch 119/200\n",
            "555/555 [==============================] - 2s 3ms/step - loss: 0.1724 - accuracy: 0.9306 - val_loss: 0.6721 - val_accuracy: 0.8053\n",
            "Epoch 120/200\n",
            "555/555 [==============================] - 2s 3ms/step - loss: 0.1738 - accuracy: 0.9270 - val_loss: 0.6308 - val_accuracy: 0.8166\n",
            "Epoch 121/200\n",
            "555/555 [==============================] - 2s 3ms/step - loss: 0.1733 - accuracy: 0.9257 - val_loss: 0.6239 - val_accuracy: 0.8144\n",
            "Epoch 122/200\n",
            "555/555 [==============================] - 1s 3ms/step - loss: 0.1774 - accuracy: 0.9217 - val_loss: 0.6262 - val_accuracy: 0.8166\n",
            "Epoch 123/200\n",
            "555/555 [==============================] - 2s 4ms/step - loss: 0.1719 - accuracy: 0.9257 - val_loss: 0.6220 - val_accuracy: 0.8173\n",
            "Epoch 124/200\n",
            "555/555 [==============================] - 2s 3ms/step - loss: 0.1724 - accuracy: 0.9266 - val_loss: 0.6212 - val_accuracy: 0.8130\n",
            "Epoch 125/200\n",
            "555/555 [==============================] - 2s 3ms/step - loss: 0.1724 - accuracy: 0.9255 - val_loss: 0.6330 - val_accuracy: 0.8166\n",
            "Epoch 126/200\n",
            "555/555 [==============================] - 2s 3ms/step - loss: 0.1690 - accuracy: 0.9284 - val_loss: 0.6168 - val_accuracy: 0.8126\n",
            "Epoch 127/200\n",
            "555/555 [==============================] - 2s 3ms/step - loss: 0.1671 - accuracy: 0.9309 - val_loss: 0.6467 - val_accuracy: 0.8071\n",
            "Epoch 128/200\n",
            "555/555 [==============================] - 2s 3ms/step - loss: 0.1693 - accuracy: 0.9284 - val_loss: 0.6391 - val_accuracy: 0.8133\n",
            "Epoch 129/200\n",
            "555/555 [==============================] - 2s 3ms/step - loss: 0.1690 - accuracy: 0.9246 - val_loss: 0.6564 - val_accuracy: 0.8104\n",
            "Epoch 130/200\n",
            "555/555 [==============================] - 2s 4ms/step - loss: 0.1679 - accuracy: 0.9272 - val_loss: 0.6365 - val_accuracy: 0.8144\n",
            "Epoch 131/200\n",
            "555/555 [==============================] - 2s 4ms/step - loss: 0.1665 - accuracy: 0.9286 - val_loss: 0.6686 - val_accuracy: 0.7954\n",
            "Epoch 132/200\n",
            "555/555 [==============================] - 2s 3ms/step - loss: 0.1663 - accuracy: 0.9304 - val_loss: 0.6554 - val_accuracy: 0.8075\n",
            "Epoch 133/200\n",
            "555/555 [==============================] - 2s 3ms/step - loss: 0.1662 - accuracy: 0.9297 - val_loss: 0.6376 - val_accuracy: 0.8217\n",
            "Epoch 134/200\n",
            "555/555 [==============================] - 2s 3ms/step - loss: 0.1662 - accuracy: 0.9281 - val_loss: 0.6588 - val_accuracy: 0.8163\n",
            "Epoch 135/200\n",
            "555/555 [==============================] - 2s 3ms/step - loss: 0.1706 - accuracy: 0.9254 - val_loss: 0.6475 - val_accuracy: 0.8177\n",
            "Epoch 136/200\n",
            "555/555 [==============================] - 2s 3ms/step - loss: 0.1644 - accuracy: 0.9317 - val_loss: 0.6781 - val_accuracy: 0.8133\n",
            "Epoch 137/200\n",
            "555/555 [==============================] - 2s 4ms/step - loss: 0.1680 - accuracy: 0.9291 - val_loss: 0.6782 - val_accuracy: 0.8100\n",
            "Epoch 138/200\n",
            "555/555 [==============================] - 2s 3ms/step - loss: 0.1610 - accuracy: 0.9277 - val_loss: 0.6535 - val_accuracy: 0.8152\n",
            "Epoch 139/200\n",
            "555/555 [==============================] - 1s 3ms/step - loss: 0.1672 - accuracy: 0.9275 - val_loss: 0.6448 - val_accuracy: 0.8137\n",
            "Epoch 140/200\n",
            "555/555 [==============================] - 1s 3ms/step - loss: 0.1581 - accuracy: 0.9322 - val_loss: 0.7104 - val_accuracy: 0.8067\n",
            "Epoch 141/200\n",
            "555/555 [==============================] - 1s 3ms/step - loss: 0.1641 - accuracy: 0.9299 - val_loss: 0.6627 - val_accuracy: 0.8137\n",
            "Epoch 142/200\n",
            "555/555 [==============================] - 1s 3ms/step - loss: 0.1657 - accuracy: 0.9297 - val_loss: 0.6662 - val_accuracy: 0.8173\n",
            "Epoch 143/200\n",
            "555/555 [==============================] - 2s 3ms/step - loss: 0.1630 - accuracy: 0.9277 - val_loss: 0.6731 - val_accuracy: 0.8130\n",
            "Epoch 144/200\n",
            "555/555 [==============================] - 2s 3ms/step - loss: 0.1621 - accuracy: 0.9304 - val_loss: 0.6782 - val_accuracy: 0.8071\n",
            "Epoch 145/200\n",
            "555/555 [==============================] - 2s 4ms/step - loss: 0.1613 - accuracy: 0.9293 - val_loss: 0.6926 - val_accuracy: 0.8141\n",
            "Epoch 146/200\n",
            "555/555 [==============================] - 2s 3ms/step - loss: 0.1582 - accuracy: 0.9326 - val_loss: 0.6861 - val_accuracy: 0.8126\n",
            "Epoch 147/200\n",
            "555/555 [==============================] - 2s 3ms/step - loss: 0.1552 - accuracy: 0.9333 - val_loss: 0.6851 - val_accuracy: 0.8144\n",
            "Epoch 148/200\n",
            "555/555 [==============================] - 2s 3ms/step - loss: 0.1575 - accuracy: 0.9329 - val_loss: 0.7045 - val_accuracy: 0.8122\n",
            "Epoch 149/200\n",
            "555/555 [==============================] - 2s 3ms/step - loss: 0.1574 - accuracy: 0.9311 - val_loss: 0.7113 - val_accuracy: 0.8163\n",
            "Epoch 150/200\n",
            "555/555 [==============================] - 2s 3ms/step - loss: 0.1576 - accuracy: 0.9322 - val_loss: 0.6705 - val_accuracy: 0.8170\n",
            "Epoch 151/200\n",
            "555/555 [==============================] - 1s 3ms/step - loss: 0.1556 - accuracy: 0.9344 - val_loss: 0.6772 - val_accuracy: 0.8159\n",
            "Epoch 152/200\n",
            "555/555 [==============================] - 2s 4ms/step - loss: 0.1552 - accuracy: 0.9342 - val_loss: 0.6945 - val_accuracy: 0.8111\n",
            "Epoch 153/200\n",
            "555/555 [==============================] - 2s 3ms/step - loss: 0.1592 - accuracy: 0.9300 - val_loss: 0.6945 - val_accuracy: 0.8130\n",
            "Epoch 154/200\n",
            "555/555 [==============================] - 2s 3ms/step - loss: 0.1560 - accuracy: 0.9329 - val_loss: 0.6833 - val_accuracy: 0.8126\n",
            "Epoch 155/200\n",
            "555/555 [==============================] - 2s 3ms/step - loss: 0.1561 - accuracy: 0.9353 - val_loss: 0.7034 - val_accuracy: 0.8133\n",
            "Epoch 156/200\n",
            "555/555 [==============================] - 2s 3ms/step - loss: 0.1547 - accuracy: 0.9327 - val_loss: 0.7539 - val_accuracy: 0.8086\n",
            "Epoch 157/200\n",
            "555/555 [==============================] - 2s 3ms/step - loss: 0.1572 - accuracy: 0.9336 - val_loss: 0.6913 - val_accuracy: 0.8126\n",
            "Epoch 158/200\n",
            "555/555 [==============================] - 1s 3ms/step - loss: 0.1526 - accuracy: 0.9367 - val_loss: 0.6986 - val_accuracy: 0.8119\n",
            "Epoch 159/200\n",
            "555/555 [==============================] - 2s 4ms/step - loss: 0.1520 - accuracy: 0.9362 - val_loss: 0.6908 - val_accuracy: 0.8093\n",
            "Epoch 160/200\n",
            "555/555 [==============================] - 2s 3ms/step - loss: 0.1501 - accuracy: 0.9367 - val_loss: 0.7173 - val_accuracy: 0.8181\n",
            "Epoch 161/200\n",
            "555/555 [==============================] - 2s 3ms/step - loss: 0.1504 - accuracy: 0.9378 - val_loss: 0.7100 - val_accuracy: 0.8075\n",
            "Epoch 162/200\n",
            "555/555 [==============================] - 1s 3ms/step - loss: 0.1519 - accuracy: 0.9358 - val_loss: 0.7343 - val_accuracy: 0.8005\n",
            "Epoch 163/200\n",
            "555/555 [==============================] - 1s 3ms/step - loss: 0.1495 - accuracy: 0.9338 - val_loss: 0.7172 - val_accuracy: 0.8119\n",
            "Epoch 164/200\n",
            "555/555 [==============================] - 1s 3ms/step - loss: 0.1513 - accuracy: 0.9362 - val_loss: 0.7220 - val_accuracy: 0.8071\n",
            "Epoch 165/200\n",
            "555/555 [==============================] - 2s 3ms/step - loss: 0.1512 - accuracy: 0.9354 - val_loss: 0.7459 - val_accuracy: 0.8067\n",
            "Epoch 166/200\n",
            "555/555 [==============================] - 2s 3ms/step - loss: 0.1509 - accuracy: 0.9382 - val_loss: 0.7195 - val_accuracy: 0.8104\n",
            "Epoch 167/200\n",
            "555/555 [==============================] - 2s 4ms/step - loss: 0.1493 - accuracy: 0.9369 - val_loss: 0.7360 - val_accuracy: 0.8045\n",
            "Epoch 168/200\n",
            "555/555 [==============================] - 2s 3ms/step - loss: 0.1468 - accuracy: 0.9383 - val_loss: 0.7491 - val_accuracy: 0.8188\n",
            "Epoch 169/200\n",
            "555/555 [==============================] - 2s 3ms/step - loss: 0.1489 - accuracy: 0.9351 - val_loss: 0.7300 - val_accuracy: 0.8206\n",
            "Epoch 170/200\n",
            "555/555 [==============================] - 2s 3ms/step - loss: 0.1478 - accuracy: 0.9378 - val_loss: 0.7356 - val_accuracy: 0.8225\n",
            "Epoch 171/200\n",
            "555/555 [==============================] - 2s 3ms/step - loss: 0.1459 - accuracy: 0.9374 - val_loss: 0.7556 - val_accuracy: 0.8020\n",
            "Epoch 172/200\n",
            "555/555 [==============================] - 2s 3ms/step - loss: 0.1530 - accuracy: 0.9347 - val_loss: 0.7272 - val_accuracy: 0.8115\n",
            "Epoch 173/200\n",
            "555/555 [==============================] - 2s 3ms/step - loss: 0.1470 - accuracy: 0.9382 - val_loss: 0.7323 - val_accuracy: 0.8159\n",
            "Epoch 174/200\n",
            "555/555 [==============================] - 2s 4ms/step - loss: 0.1482 - accuracy: 0.9347 - val_loss: 0.7614 - val_accuracy: 0.8089\n",
            "Epoch 175/200\n",
            "555/555 [==============================] - 1s 3ms/step - loss: 0.1463 - accuracy: 0.9351 - val_loss: 0.7732 - val_accuracy: 0.8053\n",
            "Epoch 176/200\n",
            "555/555 [==============================] - 1s 3ms/step - loss: 0.1493 - accuracy: 0.9358 - val_loss: 0.7337 - val_accuracy: 0.8152\n",
            "Epoch 177/200\n",
            "555/555 [==============================] - 2s 3ms/step - loss: 0.1456 - accuracy: 0.9376 - val_loss: 0.7514 - val_accuracy: 0.8155\n",
            "Epoch 178/200\n",
            "555/555 [==============================] - 1s 3ms/step - loss: 0.1402 - accuracy: 0.9405 - val_loss: 0.7371 - val_accuracy: 0.8023\n",
            "Epoch 179/200\n",
            "555/555 [==============================] - 1s 3ms/step - loss: 0.1452 - accuracy: 0.9409 - val_loss: 0.7620 - val_accuracy: 0.8111\n",
            "Epoch 180/200\n",
            "555/555 [==============================] - 1s 3ms/step - loss: 0.1449 - accuracy: 0.9391 - val_loss: 0.7428 - val_accuracy: 0.8155\n",
            "Epoch 181/200\n",
            "555/555 [==============================] - 2s 3ms/step - loss: 0.1394 - accuracy: 0.9394 - val_loss: 0.7815 - val_accuracy: 0.8181\n",
            "Epoch 182/200\n",
            "555/555 [==============================] - 2s 4ms/step - loss: 0.1452 - accuracy: 0.9389 - val_loss: 0.7557 - val_accuracy: 0.8064\n",
            "Epoch 183/200\n",
            "555/555 [==============================] - 2s 3ms/step - loss: 0.1462 - accuracy: 0.9371 - val_loss: 0.7573 - val_accuracy: 0.8042\n",
            "Epoch 184/200\n",
            "555/555 [==============================] - 2s 3ms/step - loss: 0.1435 - accuracy: 0.9389 - val_loss: 0.7554 - val_accuracy: 0.8111\n",
            "Epoch 185/200\n",
            "555/555 [==============================] - 1s 3ms/step - loss: 0.1473 - accuracy: 0.9371 - val_loss: 0.7595 - val_accuracy: 0.8236\n",
            "Epoch 186/200\n",
            "555/555 [==============================] - 1s 3ms/step - loss: 0.1387 - accuracy: 0.9380 - val_loss: 0.7646 - val_accuracy: 0.8148\n",
            "Epoch 187/200\n",
            "555/555 [==============================] - 2s 3ms/step - loss: 0.1423 - accuracy: 0.9407 - val_loss: 0.7462 - val_accuracy: 0.8137\n",
            "Epoch 188/200\n",
            "555/555 [==============================] - 2s 3ms/step - loss: 0.1426 - accuracy: 0.9389 - val_loss: 0.7763 - val_accuracy: 0.8155\n",
            "Epoch 189/200\n",
            "555/555 [==============================] - 2s 4ms/step - loss: 0.1399 - accuracy: 0.9392 - val_loss: 0.7558 - val_accuracy: 0.8122\n",
            "Epoch 190/200\n",
            "555/555 [==============================] - 2s 3ms/step - loss: 0.1391 - accuracy: 0.9401 - val_loss: 0.7725 - val_accuracy: 0.8056\n",
            "Epoch 191/200\n",
            "555/555 [==============================] - 1s 3ms/step - loss: 0.1386 - accuracy: 0.9416 - val_loss: 0.7657 - val_accuracy: 0.8221\n",
            "Epoch 192/200\n",
            "555/555 [==============================] - 2s 3ms/step - loss: 0.1396 - accuracy: 0.9418 - val_loss: 0.7977 - val_accuracy: 0.8192\n",
            "Epoch 193/200\n",
            "555/555 [==============================] - 1s 3ms/step - loss: 0.1430 - accuracy: 0.9371 - val_loss: 0.7652 - val_accuracy: 0.8056\n",
            "Epoch 194/200\n",
            "555/555 [==============================] - 2s 3ms/step - loss: 0.1374 - accuracy: 0.9392 - val_loss: 0.7730 - val_accuracy: 0.8023\n",
            "Epoch 195/200\n",
            "555/555 [==============================] - 2s 3ms/step - loss: 0.1378 - accuracy: 0.9425 - val_loss: 0.7803 - val_accuracy: 0.8086\n",
            "Epoch 196/200\n",
            "555/555 [==============================] - 2s 4ms/step - loss: 0.1407 - accuracy: 0.9391 - val_loss: 0.7892 - val_accuracy: 0.8184\n",
            "Epoch 197/200\n",
            "555/555 [==============================] - 2s 3ms/step - loss: 0.1351 - accuracy: 0.9428 - val_loss: 0.7785 - val_accuracy: 0.8100\n",
            "Epoch 198/200\n",
            "555/555 [==============================] - 1s 3ms/step - loss: 0.1409 - accuracy: 0.9391 - val_loss: 0.7902 - val_accuracy: 0.8067\n",
            "Epoch 199/200\n",
            "555/555 [==============================] - 2s 3ms/step - loss: 0.1370 - accuracy: 0.9387 - val_loss: 0.7688 - val_accuracy: 0.8104\n",
            "Epoch 200/200\n",
            "555/555 [==============================] - 2s 3ms/step - loss: 0.1333 - accuracy: 0.9427 - val_loss: 0.8213 - val_accuracy: 0.8100\n"
          ]
        }
      ]
    },
    {
      "cell_type": "code",
      "source": [
        "ann_pred=classifier.predict(x_test)\n",
        "ann_pred=(ann_pred>0.5)\n",
        "ann_pred"
      ],
      "metadata": {
        "colab": {
          "base_uri": "https://localhost:8080/"
        },
        "id": "OEuT3Mhe2bx-",
        "outputId": "1d7ccf5a-184c-49f9-93ab-3db6b2b4289a"
      },
      "execution_count": 36,
      "outputs": [
        {
          "output_type": "stream",
          "name": "stdout",
          "text": [
            "65/65 [==============================] - 0s 1ms/step\n"
          ]
        },
        {
          "output_type": "execute_result",
          "data": {
            "text/plain": [
              "array([[ True],\n",
              "       [False],\n",
              "       [ True],\n",
              "       ...,\n",
              "       [ True],\n",
              "       [ True],\n",
              "       [ True]])"
            ]
          },
          "metadata": {},
          "execution_count": 36
        }
      ]
    },
    {
      "cell_type": "code",
      "source": [
        "print(\"Accuracy Test :\",accuracy_score(ann_pred,y_test))\n",
        "print(\"ANN model\")\n",
        "print(\"Confusion Matrix\")\n",
        "print(confusion_matrix(y_test, ann_pred))\n",
        "print(\"Classification Reprot\")\n",
        "print(classification_report(y_test, ann_pred))\n"
      ],
      "metadata": {
        "colab": {
          "base_uri": "https://localhost:8080/"
        },
        "id": "tKo92xF63kQJ",
        "outputId": "da63dc5c-1b72-477e-8897-f25911f5a605"
      },
      "execution_count": 37,
      "outputs": [
        {
          "output_type": "stream",
          "name": "stdout",
          "text": [
            "Accuracy Test : 0.808695652173913\n",
            "ANN model\n",
            "Confusion Matrix\n",
            "[[759 274]\n",
            " [122 915]]\n",
            "Classification Reprot\n",
            "              precision    recall  f1-score   support\n",
            "\n",
            "           0       0.86      0.73      0.79      1033\n",
            "           1       0.77      0.88      0.82      1037\n",
            "\n",
            "    accuracy                           0.81      2070\n",
            "   macro avg       0.82      0.81      0.81      2070\n",
            "weighted avg       0.82      0.81      0.81      2070\n",
            "\n"
          ]
        }
      ]
    },
    {
      "cell_type": "code",
      "source": [
        "lr=LogisticRegression(random_state=0)\n",
        "lr.fit(x_train,y_train)\n",
        "print(\"Predicting on random input\")\n",
        "lr_pred_own=lr.predict(sc.transform([[0,0,1,1,0,0,0,0,1,0,0,1,0,0,1,0,0,1,0,0,1,0,0,1,0,0,1,0,1,0,0,1,1,0,0,456,1,0,3245,4567]]))\n",
        "print(\"output is :\", lr_pred_own)"
      ],
      "metadata": {
        "colab": {
          "base_uri": "https://localhost:8080/"
        },
        "id": "UK2Dy35n36rO",
        "outputId": "a93e022a-1aad-49f6-cf24-3d817dd2c1e7"
      },
      "execution_count": 38,
      "outputs": [
        {
          "output_type": "stream",
          "name": "stdout",
          "text": [
            "Predicting on random input\n",
            "output is : [0]\n"
          ]
        }
      ]
    },
    {
      "cell_type": "markdown",
      "source": [
        "\n",
        "\n"
      ],
      "metadata": {
        "id": "d91bCJe0CqCQ"
      }
    },
    {
      "cell_type": "code",
      "source": [
        "dtc=DecisionTreeClassifier(criterion=\"entropy\",random_state=0)\n",
        "dtc.fit(x_train,y_train)\n",
        "print(\"Predicting on random input\")\n",
        "dtc_pred_own=dtc.predict(sc.transform([[0,0,1,1,0,0,0,0,1,0,0,1,0,0,1,0,0,1,0,0,1,0,0,1,0,0,1,0,1,0,0,1,1,0,0,456,1,0,3245,4567]]))\n",
        "print(\"output is :\", dtc_pred_own)"
      ],
      "metadata": {
        "colab": {
          "base_uri": "https://localhost:8080/"
        },
        "id": "zGw1suWz5zOG",
        "outputId": "3d6772e8-1f36-4f72-ba2f-b9cc099db1ea"
      },
      "execution_count": 39,
      "outputs": [
        {
          "output_type": "stream",
          "name": "stdout",
          "text": [
            "Predicting on random input\n",
            "output is : [1]\n"
          ]
        }
      ]
    },
    {
      "cell_type": "code",
      "source": [
        "rf=RandomForestClassifier(criterion=\"entropy\",n_estimators=10,random_state=0)\n",
        "rf.fit(x_train,y_train)\n",
        "print(\"Predicting on random input\")\n",
        "rf_pred_own=rf.predict(sc.transform([[0,0,1,1,0,0,0,0,1,0,0,1,0,0,1,0,0,1,0,0,1,0,0,1,0,0,1,0,1,0,0,1,1,0,0,456,1,0,3245,4567]]))\n",
        "print(\"output is :\", rf_pred_own)"
      ],
      "metadata": {
        "id": "IoaDLItG6QLS",
        "colab": {
          "base_uri": "https://localhost:8080/"
        },
        "outputId": "6c84bee9-7ffc-44a4-d2a5-d6d961d0e77a"
      },
      "execution_count": 40,
      "outputs": [
        {
          "output_type": "stream",
          "name": "stdout",
          "text": [
            "Predicting on random input\n",
            "output is : [0]\n"
          ]
        }
      ]
    },
    {
      "cell_type": "code",
      "source": [
        "print(\"Predicting on random input\")\n",
        "ann_pred_own=classifier.predict(sc.transform([[0,0,1,1,0,0,0,0,1,0,0,1,0,0,1,0,0,1,0,0,1,0,0,1,0,0,1,0,1,0,0,1,1,0,0,456,1,0,3245,4567]]))\n",
        "ann_pred_own=(ann_pred_own>0.5)\n",
        "print(\"output is :\", ann_pred_own)"
      ],
      "metadata": {
        "id": "xmSh22nZ7d1S",
        "colab": {
          "base_uri": "https://localhost:8080/"
        },
        "outputId": "ee1d830e-f114-488d-887b-099439e32b84"
      },
      "execution_count": 41,
      "outputs": [
        {
          "output_type": "stream",
          "name": "stdout",
          "text": [
            "Predicting on random input\n",
            "1/1 [==============================] - 0s 23ms/step\n",
            "output is : [[ True]]\n"
          ]
        }
      ]
    },
    {
      "cell_type": "code",
      "source": [
        "svc=SVC(kernel=\"linear\")\n",
        "svc.fit(x_train,y_train)\n",
        "print(\"Predicting on random input\")\n",
        "svm_pred_own=svc.predict(sc.transform([[0,0,1,1,0,0,0,0,1,0,0,1,0,0,1,0,0,1,0,0,1,0,0,1,0,0,1,0,1,0,0,1,1,0,0,456,1,0,3245,4567]]))\n",
        "print(\"output is :\", svm_pred_own)"
      ],
      "metadata": {
        "id": "8zIkxria6mz7",
        "colab": {
          "base_uri": "https://localhost:8080/"
        },
        "outputId": "b42c9c48-cc6d-4da1-d4b2-80c00b122964"
      },
      "execution_count": 42,
      "outputs": [
        {
          "output_type": "stream",
          "name": "stdout",
          "text": [
            "Predicting on random input\n",
            "output is : [0]\n"
          ]
        }
      ]
    },
    {
      "cell_type": "code",
      "source": [
        "knn=KNeighborsClassifier()\n",
        "knn.fit(x_train,y_train)\n",
        "print(\"Predicting on random input\")\n",
        "knn_pred_own=knn.predict(sc.transform([[0,0,1,1,0,0,0,0,1,0,0,1,0,0,1,0,0,1,0,0,1,0,0,1,0,0,1,0,1,0,0,1,1,0,0,456,1,0,3245,4567]]))\n",
        "print(\"output is :\", knn_pred_own)\n"
      ],
      "metadata": {
        "id": "SN2G7Drp7O64",
        "colab": {
          "base_uri": "https://localhost:8080/"
        },
        "outputId": "8e9e1f7c-9921-4f49-de43-290df46e9938"
      },
      "execution_count": 43,
      "outputs": [
        {
          "output_type": "stream",
          "name": "stdout",
          "text": [
            "Predicting on random input\n",
            "output is : [0]\n"
          ]
        }
      ]
    },
    {
      "cell_type": "code",
      "source": [
        "print(\"Predicting on random input\")\n",
        "ann_pred_own=classifier.predict(sc.transform([[0,0,1,1,0,0,0,0,1,0,0,1,0,0,1,0,0,1,0,0,1,0,0,1,0,0,1,0,1,0,0,1,1,0,0,456,1,0,3245,4567]]))\n",
        "print(ann_pred_own)\n",
        "ann_pred_own=(ann_pred_own>0.5)\n",
        "print(\"output is :\", ann_pred_own)\n",
        "\n"
      ],
      "metadata": {
        "colab": {
          "base_uri": "https://localhost:8080/"
        },
        "id": "r4Ef8MI2F18X",
        "outputId": "ba186de2-348e-4ce5-a841-16127e47abac"
      },
      "execution_count": 44,
      "outputs": [
        {
          "output_type": "stream",
          "name": "stdout",
          "text": [
            "Predicting on random input\n",
            "1/1 [==============================] - 0s 43ms/step\n",
            "[[1.]]\n",
            "output is : [[ True]]\n"
          ]
        }
      ]
    },
    {
      "cell_type": "code",
      "source": [
        "def comp_mod(x_train,x_test,y_train,y_test):\n",
        "  logreg(x_train,x_test,y_train,y_test)\n",
        "  print(\"-\"*100)\n",
        "  dTree(x_train,x_test,y_train,y_test)\n",
        "  print(\"-\"*100)\n",
        "  RandomForest(x_train,x_test,y_train,y_test)\n",
        "  print(\"-\"*100)\n",
        "  SVM(x_train,x_test,y_train,y_test)\n",
        "  print(\"-\"*100)\n",
        "  KNN(x_train,x_test,y_train,y_test)\n",
        "  print(\"-\"*100)"
      ],
      "metadata": {
        "id": "X2rFFThlGX5Y"
      },
      "execution_count": 53,
      "outputs": []
    },
    {
      "cell_type": "code",
      "source": [
        "comp_mod(x_train,x_test,y_train,y_test)"
      ],
      "metadata": {
        "colab": {
          "base_uri": "https://localhost:8080/"
        },
        "id": "MfG-M215HMu3",
        "outputId": "2f3df344-0afd-4a21-c481-3157d90c032b"
      },
      "execution_count": 54,
      "outputs": [
        {
          "output_type": "stream",
          "name": "stdout",
          "text": [
            "Accuracy Score : 0.7726503986470162\n",
            "Accuracy Test : 0.7801932367149759\n",
            "Logistic Regression\n",
            "Confusion Matrix\n",
            "[[762 271]\n",
            " [184 853]]\n",
            "Classification Reprot\n",
            "              precision    recall  f1-score   support\n",
            "\n",
            "           0       0.81      0.74      0.77      1033\n",
            "           1       0.76      0.82      0.79      1037\n",
            "\n",
            "    accuracy                           0.78      2070\n",
            "   macro avg       0.78      0.78      0.78      2070\n",
            "weighted avg       0.78      0.78      0.78      2070\n",
            "\n",
            "----------------------------------------------------------------------------------------------------\n",
            "Accuracy Score : 0.9981879681082387\n",
            "Accuracy Test : 0.7888888888888889\n",
            "Decsion Tree\n",
            "Confusion Matrix\n",
            "[[685 348]\n",
            " [ 89 948]]\n",
            "Classification Reprot\n",
            "              precision    recall  f1-score   support\n",
            "\n",
            "           0       0.89      0.66      0.76      1033\n",
            "           1       0.73      0.91      0.81      1037\n",
            "\n",
            "    accuracy                           0.79      2070\n",
            "   macro avg       0.81      0.79      0.79      2070\n",
            "weighted avg       0.81      0.79      0.79      2070\n",
            "\n",
            "----------------------------------------------------------------------------------------------------\n",
            "Accuracy Score : 0.9890070065233149\n",
            "Accuracy Test : 0.7922705314009661\n",
            "Random Forest\n",
            "Confusion Matrix\n",
            "[[701 332]\n",
            " [ 98 939]]\n",
            "Classification Reprot\n",
            "              precision    recall  f1-score   support\n",
            "\n",
            "           0       0.88      0.68      0.77      1033\n",
            "           1       0.74      0.91      0.81      1037\n",
            "\n",
            "    accuracy                           0.79      2070\n",
            "   macro avg       0.81      0.79      0.79      2070\n",
            "weighted avg       0.81      0.79      0.79      2070\n",
            "\n",
            "----------------------------------------------------------------------------------------------------\n",
            "Accuracy Score : 0.851171780623339\n",
            "Accuracy Test : 0.7956521739130434\n",
            "SVM\n",
            "Confusion Matrix\n",
            "[[720 313]\n",
            " [110 927]]\n",
            "Classification Reprot\n",
            "              precision    recall  f1-score   support\n",
            "\n",
            "           0       0.87      0.70      0.77      1033\n",
            "           1       0.75      0.89      0.81      1037\n",
            "\n",
            "    accuracy                           0.80      2070\n",
            "   macro avg       0.81      0.80      0.79      2070\n",
            "weighted avg       0.81      0.80      0.79      2070\n",
            "\n",
            "----------------------------------------------------------------------------------------------------\n",
            "Accuracy Score : 0.851171780623339\n",
            "Accuracy Test : 0.7956521739130434\n",
            "KNN\n",
            "Confusion Matrix\n",
            "[[720 313]\n",
            " [110 927]]\n",
            "Classification Reprot\n",
            "              precision    recall  f1-score   support\n",
            "\n",
            "           0       0.87      0.70      0.77      1033\n",
            "           1       0.75      0.89      0.81      1037\n",
            "\n",
            "    accuracy                           0.80      2070\n",
            "   macro avg       0.81      0.80      0.79      2070\n",
            "weighted avg       0.81      0.80      0.79      2070\n",
            "\n",
            "----------------------------------------------------------------------------------------------------\n"
          ]
        }
      ]
    },
    {
      "cell_type": "code",
      "source": [
        "model = RandomForestClassifier()\n",
        "model.fit(x_train, y_train)\n",
        "y_rf=model.predict(x_train)\n",
        "print(accuracy_score(y_rf,y_train))\n",
        "y_pred_rcv=model.predict(x_test)\n",
        "print(accuracy_score(y_pred_rcv,y_test))\n",
        "print(\"**Random Forest after Hyperparameter tuning**\")\n",
        "print(\"Confusion Matrix\")\n",
        "print(confusion_matrix(y_test, y_pred_rcv))\n",
        "print(\"Classification Reprot\")\n",
        "print(classification_report(y_test, y_pred_rcv))\n",
        "print(\"Predicting on random input\")\n",
        "rfcv_pred_own=model.predict(sc.transform([[0,0,1,1,0,0,0,0,1,0,0,1,0,0,1,0,0,1,0,0,1,0,0,1,0,0,1,0,1,0,0,1,1,0,0,456,1,0,3245,4567]]))\n",
        "print(\"output is :\", rfcv_pred_own)"
      ],
      "metadata": {
        "colab": {
          "base_uri": "https://localhost:8080/"
        },
        "id": "x8E17NarIafO",
        "outputId": "ed94b12f-8491-487c-e5bc-86ab2a0f5798"
      },
      "execution_count": 63,
      "outputs": [
        {
          "output_type": "stream",
          "name": "stdout",
          "text": [
            "0.9981879681082387\n",
            "0.7990338164251207\n",
            "**Random Forest after Hyperparameter tuning**\n",
            "Confusion Matrix\n",
            "[[678 355]\n",
            " [ 61 976]]\n",
            "Classification Reprot\n",
            "              precision    recall  f1-score   support\n",
            "\n",
            "           0       0.92      0.66      0.77      1033\n",
            "           1       0.73      0.94      0.82      1037\n",
            "\n",
            "    accuracy                           0.80      2070\n",
            "   macro avg       0.83      0.80      0.79      2070\n",
            "weighted avg       0.83      0.80      0.79      2070\n",
            "\n",
            "Predicting on random input\n",
            "output is : [0]\n"
          ]
        }
      ]
    },
    {
      "cell_type": "code",
      "source": [
        "classifier.save(\"telecom_churn.h5\")"
      ],
      "metadata": {
        "id": "ucweKPLWPkAC"
      },
      "execution_count": 65,
      "outputs": []
    }
  ]
}